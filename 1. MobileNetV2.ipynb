{
 "cells": [
  {
   "cell_type": "markdown",
   "id": "656f036b",
   "metadata": {
    "id": "656f036b"
   },
   "source": [
    "# COVID-19 Prediction using Transfer Learning"
   ]
  },
  {
   "cell_type": "markdown",
   "id": "908ef333",
   "metadata": {
    "id": "908ef333"
   },
   "source": [
    "I'll be using transfer learning on a pre-trained CNN to build an COVID-19/Normal classifier!\n",
    "\n",
    "<img src=\"TransferLearning.png\" style=\"width:700px;height:300px;\">\n",
    "\n",
    "A pre-trained model is a network that's already been trained on a large dataset and saved, which allows us to use it to customize our own model cheaply and efficiently. The one we'll be using, MobileNetV2, was designed to provide fast and computationally efficient performance. It's been pre-trained on ImageNet, a dataset containing over 14 million images and 1000 classes."
   ]
  },
  {
   "cell_type": "markdown",
   "id": "282ca88e",
   "metadata": {},
   "source": [
    "## Table of Content\n",
    "\n",
    "- [1 - Import Packages](#5)\n",
    "- [2 - Data Preprocess and Augmentation](#2)\n",
    "    - [2.1 - Data Augmentation](#ex-1)\n",
    "        - [Rescale Pixel Values](#)\n",
    "    - [2.2 Create the Dataset in Training and Validation Sets](#3-3)\n",
    "- [3 - Creating the base model from the pre-trained Convnets](#3-3)\n",
    "    - [3.1 - Inside a Transfer Learning  Building Block](#3-3)\n",
    "    - [3.2 - Layer Freezing with the Functional API](#)\n",
    "- [4 - Compile the model](#3-3)\n",
    "    - [4.1 - Train the model](#3-3)\n",
    "    - [4.2 - Learning Curve](#ex-3)\n",
    "- [5 - Confusion Matrix](#)\n",
    "    - [5.1 - AUC & ROC Curve](#3-3)\n",
    "- [6 - Fine Tuning](#)\n",
    "    - [6.1 - Compile the model](#3-3)\n",
    "    - [6.1 - Continure Training the Model](#3-3)\n",
    "        - [Learning Curve](#ex-3)\n",
    "- [7 - Evaluation and Prediction](#)"
   ]
  },
  {
   "cell_type": "markdown",
   "id": "39c825ed",
   "metadata": {
    "id": "39c825ed"
   },
   "source": [
    "<font color='blue'>\n",
    "    \n",
    "## 1. Importing Packages"
   ]
  },
  {
   "cell_type": "code",
   "execution_count": 147,
   "id": "1d017845",
   "metadata": {
    "id": "1d017845"
   },
   "outputs": [],
   "source": [
    "import os\n",
    "import numpy as np\n",
    "import pandas as pd\n",
    "from glob import glob\n",
    "import matplotlib.pyplot as plt\n",
    "\n",
    "import tensorflow as tf\n",
    "\n",
    "from keras.models import Model\n",
    "from keras.models import Sequential\n",
    "from keras.models import load_model\n",
    "\n",
    "from keras.preprocessing import image\n",
    "from keras.layers import Input, Lambda, Dense, Flatten\n",
    "from keras.preprocessing.image import ImageDataGenerator\n",
    "\n",
    "import seaborn as sns\n",
    "from sklearn.metrics import confusion_matrix, classification_report\n",
    "from sklearn.metrics import precision_score, recall_score,accuracy_score, f1_score\n"
   ]
  },
  {
   "cell_type": "markdown",
   "id": "97d52cb4",
   "metadata": {
    "id": "97d52cb4"
   },
   "source": [
    "<font color='blue'>\n",
    "\n",
    "## 2. Data Preprocess and Augmentation"
   ]
  },
  {
   "cell_type": "markdown",
   "id": "e50c44ae",
   "metadata": {
    "id": "e50c44ae"
   },
   "source": [
    "### 2.1 Data Augmentation\n",
    "\n",
    "To increase diversity in the training set and help our model learn the data better, it's standard practice to augment the images by transforming them, i.e., randomly flipping and rotating them. Keras' Sequential API offers a straightforward method for these kinds of data augmentations, with built-in, customizable preprocessing layers. \n",
    "\n",
    "When we don't have a large image dataset, it's a good practice to artificially introduce sample diversity by applying random, yet realistic, transformations to the training images, such as rotation and horizontal flipping. This helps expose the model to different aspects of the training data and reduce [overfitting](https://www.tensorflow.org/tutorials/keras/overfit_and_underfit). More details about data augmentation in this [tutorial](https://www.tensorflow.org/tutorials/images/data_augmentation).\n",
    "\n",
    "Official documents for data augmentation [here](https://www.tensorflow.org/tutorials/images/data_augmentation)."
   ]
  },
  {
   "cell_type": "markdown",
   "id": "7cba7bac",
   "metadata": {
    "id": "7cba7bac"
   },
   "source": [
    "#### Rescale Pixel Values\n",
    "\n",
    "In a moment, we will download `tf.keras.applications.MobileNetV2` for use as your base model. This model expects pixel values in `[-1, 1]`, but at this point, the pixel values in our images are in `[0, 255]`. To rescale them, use the preprocessing method included with the model."
   ]
  },
  {
   "cell_type": "code",
   "execution_count": 149,
   "id": "a44ea1cd",
   "metadata": {
    "id": "a44ea1cd"
   },
   "outputs": [],
   "source": [
    "train_datagen = ImageDataGenerator(rescale = 1./255,\n",
    "                                   shear_range = 0.2,\n",
    "                                   zoom_range = 0.2,\n",
    "                                   fill_mode=\"nearest\",\n",
    "                                   featurewise_center=True,\n",
    "                                   featurewise_std_normalization=True,\n",
    "                                   rotation_range=20,\n",
    "                                   horizontal_flip = True)"
   ]
  },
  {
   "cell_type": "code",
   "execution_count": 150,
   "id": "19153a49",
   "metadata": {
    "id": "19153a49"
   },
   "outputs": [],
   "source": [
    "validation_datagen = ImageDataGenerator(rescale = 1./255)"
   ]
  },
  {
   "cell_type": "markdown",
   "id": "ab05ab31",
   "metadata": {
    "id": "ab05ab31"
   },
   "source": [
    "### 2.2 Create the Dataset in Training and Validation Sets\n",
    "\n",
    "When training and evaluating deep learning models in Keras, generating a dataset from image files stored on disk is simple and fast. Call `flow_from_directory()` to read from the directory and create both training and validation datasets. "
   ]
  },
  {
   "cell_type": "code",
   "execution_count": 151,
   "id": "158537a7",
   "metadata": {
    "id": "158537a7"
   },
   "outputs": [],
   "source": [
    "INIT_LR = 1e-3\n",
    "BATCH_SIZE = 32\n",
    "IMAGE_SIZE = (224, 224)\n",
    "directory = \"Dataset/\""
   ]
  },
  {
   "cell_type": "code",
   "execution_count": 152,
   "id": "e344d823",
   "metadata": {
    "colab": {
     "base_uri": "https://localhost:8080/"
    },
    "id": "e344d823",
    "outputId": "79456aa8-30ab-4980-8aa2-6b0e0ee79db5"
   },
   "outputs": [
    {
     "name": "stdout",
     "output_type": "stream",
     "text": [
      "Found 11046 images belonging to 2 classes.\n"
     ]
    }
   ],
   "source": [
    "# Train Datasets\n",
    "training_set = train_datagen.flow_from_directory('/content/drive/MyDrive/Dataset/Train',\n",
    "                                                 target_size = IMAGE_SIZE,\n",
    "                                                 batch_size = 32,\n",
    "                                                 class_mode = 'categorical',\n",
    "                                                 shuffle=True)"
   ]
  },
  {
   "cell_type": "code",
   "execution_count": 153,
   "id": "8d7986cb",
   "metadata": {
    "colab": {
     "base_uri": "https://localhost:8080/"
    },
    "id": "8d7986cb",
    "outputId": "3433771e-b062-4ead-d028-204a33eeee69"
   },
   "outputs": [
    {
     "name": "stdout",
     "output_type": "stream",
     "text": [
      "{'Covid': 0, 'Normal': 1}\n"
     ]
    }
   ],
   "source": [
    "class_names = training_set.class_indices\n",
    "print(class_names)"
   ]
  },
  {
   "cell_type": "code",
   "execution_count": 154,
   "id": "938d207b",
   "metadata": {
    "colab": {
     "base_uri": "https://localhost:8080/"
    },
    "id": "938d207b",
    "outputId": "10010357-c4ff-4020-c1ab-0e8a52d34c0a"
   },
   "outputs": [
    {
     "name": "stdout",
     "output_type": "stream",
     "text": [
      "Found 2762 images belonging to 2 classes.\n"
     ]
    }
   ],
   "source": [
    "# Validation Datasets\n",
    "validation_set = validation_datagen.flow_from_directory('/content/drive/MyDrive/Dataset/Validation',\n",
    "                                            target_size = IMAGE_SIZE,\n",
    "                                            batch_size = 32,\n",
    "                                            class_mode = 'categorical',\n",
    "                                            shuffle=False)"
   ]
  },
  {
   "cell_type": "code",
   "execution_count": 155,
   "id": "76e6ab7c",
   "metadata": {
    "colab": {
     "base_uri": "https://localhost:8080/"
    },
    "id": "76e6ab7c",
    "outputId": "42e4749e-b934-4a07-fa88-7da4dd7c5def"
   },
   "outputs": [
    {
     "name": "stdout",
     "output_type": "stream",
     "text": [
      "{'Covid': 0, 'Normal': 1}\n"
     ]
    }
   ],
   "source": [
    "class_names = validation_set.class_indices\n",
    "print(class_names)"
   ]
  },
  {
   "cell_type": "markdown",
   "id": "53464b26",
   "metadata": {
    "id": "53464b26"
   },
   "source": [
    "Now let's take a look at some of the Augumented images from the training set.\n",
    "\n",
    "    First nine images and labels from the training set:"
   ]
  },
  {
   "cell_type": "code",
   "execution_count": 156,
   "id": "206d0450",
   "metadata": {
    "colab": {
     "base_uri": "https://localhost:8080/",
     "height": 789
    },
    "id": "206d0450",
    "outputId": "12ffbd09-c19d-4229-e26c-c0228f4a6c48"
   },
   "outputs": [
    {
     "name": "stderr",
     "output_type": "stream",
     "text": [
      "/usr/local/lib/python3.7/dist-packages/keras_preprocessing/image/image_data_generator.py:720: UserWarning: This ImageDataGenerator specifies `featurewise_center`, but it hasn't been fit on any training data. Fit it first by calling `.fit(numpy_data)`.\n",
      "  warnings.warn('This ImageDataGenerator specifies '\n",
      "/usr/local/lib/python3.7/dist-packages/keras_preprocessing/image/image_data_generator.py:728: UserWarning: This ImageDataGenerator specifies `featurewise_std_normalization`, but it hasn't been fit on any training data. Fit it first by calling `.fit(numpy_data)`.\n",
      "  warnings.warn('This ImageDataGenerator specifies '\n"
     ]
    },
    {
     "data": {
      "image/png": "[encoded data removed]",
      "text/plain": [
       "<Figure size 864x864 with 9 Axes>"
      ]
     },
     "metadata": {
      "needs_background": "light"
     },
     "output_type": "display_data"
    }
   ],
   "source": [
    "plt.figure(figsize=(12, 12))\n",
    "for i in range(9):\n",
    "    plt.subplot(3,3, i+1)\n",
    "    img, label = training_set.next()\n",
    "    plt.imshow(img[0], cmap='gray')\n",
    "    dic = {0:'Covid', 1:'Normal'}\n",
    "    plt.title(dic.get(np.where(label[0]==1)[0][0]))\n",
    "    plt.axis('off')\n",
    "plt.show()"
   ]
  },
  {
   "cell_type": "markdown",
   "id": "4bfd7c58",
   "metadata": {
    "id": "4bfd7c58"
   },
   "source": [
    "<font color='blue'>\n",
    "\n",
    "## 3. Creating the base model from the pre-trained Convnets"
   ]
  },
  {
   "cell_type": "markdown",
   "id": "883042d9",
   "metadata": {
    "id": "883042d9"
   },
   "source": [
    "We will create the base model from the **MobileNet V2** model developed at Google. This is pre-trained on the ImageNet dataset, a large dataset consisting of 1.4M images and 1000 classes. ImageNet is a research training dataset with a wide variety of categories like `jackfruit` and `syringe`. This base of knowledge will help us classify cats and dogs from our specific dataset.\n",
    "\n",
    "First, we need to pick which layer of MobileNet V2 we will use for feature extraction. The very last classification layer (on \"top\", as most diagrams of machine learning models go from bottom to top) is not very useful. Instead, we will follow the common practice to depend on the very last layer before the flatten operation. This layer is called the \"bottleneck layer\". The bottleneck layer features retain more generality as compared to the final/top layer.\n",
    "\n",
    "First, instantiate a MobileNet V2 model pre-loaded with weights trained on ImageNet. By specifying the **include_top=False** argument, we load a network that doesn't include the classification layers at the top, which is ideal for feature extraction."
   ]
  },
  {
   "cell_type": "markdown",
   "id": "3b315e72",
   "metadata": {
    "id": "3b315e72"
   },
   "source": [
    "### 3.1 - Inside a MobileNetV2 Convolutional Building Block\n",
    "\n",
    "MobileNetV2 uses depthwise separable convolutions as efficient building blocks. Traditional convolutions are often very resource-intensive, and  depthwise separable convolutions are able to reduce the number of trainable parameters and operations and also speed up convolutions in two steps: \n",
    "\n",
    "1. The first step calculates an intermediate result by convolving on each of the channels independently. This is the depthwise convolution.\n",
    "\n",
    "2. In the second step, another convolution merges the outputs of the previous step into one. This gets a single result from a single feature at a time, and then is applied to all the filters in the output layer. This is the pointwise convolution, or: **Shape of the depthwise convolution X Number of filters.**\n",
    "\n",
    "<img src=\"mobilenet.png\" style=\"width:650px;height:450px;\">\n",
    "<caption><center> <u> <font color='purple'> <b>Figure 1</b> </u><font color='purple'>  : <b>MobileNetV2 Architecture</b> <br> This diagram was inspired by the original seen <a href=\"https://ai.googleblog.com/2018/04/mobilenetv2-next-generation-of-on.html#:~:text=MobileNetV2%20is%20a%20significant%20improvement,object%20detection%20and%20semantic%20segmentation.\">here</a>.</center></caption>\n",
    "\n",
    "Each block consists of an inverted residual structure with a bottleneck at each end. These bottlenecks encode the intermediate inputs and outputs in a low dimensional space, and prevent non-linearities from destroying important information. \n",
    "\n",
    "The shortcut connections, which are similar to the ones in traditional residual networks, serve the same purpose of speeding up training and improving predictions. These connections skip over the intermediate convolutions and connect the bottleneck layers. "
   ]
  },
  {
   "cell_type": "markdown",
   "id": "80cce331",
   "metadata": {
    "id": "80cce331"
   },
   "source": [
    "### 3.2 Layer Freezing with the Functional API\n",
    "\n",
    "We will see how we can use a pretrained model to modify the classifier task so that it's able to recognize alpacas. We can achieve this in three steps: \n",
    "\n",
    "1. Delete the top layer (the classification layer)\n",
    "    * Set `include_top` in `base_model` as False\n",
    "2. Add a new classifier layer\n",
    "    * Train only one layer by freezing the rest of the network\n",
    "3. Freeze the base model and train the newly-created classifier layer\n",
    "    * Set `base model.trainable=False` to avoid changing the weights and train *only* the new layer\n",
    "    * Set training in `base_model` to False to avoid keeping track of statistics in the batch norm layer"
   ]
  },
  {
   "cell_type": "code",
   "execution_count": 158,
   "id": "Up66B2tfiI4s",
   "metadata": {
    "id": "Up66B2tfiI4s"
   },
   "outputs": [],
   "source": [
    "from tensorflow.keras.layers import AveragePooling2D\n",
    "from tensorflow.keras.layers import Dropout\n",
    "from tensorflow.keras.layers import Flatten\n",
    "from tensorflow.keras.layers import Dense\n",
    "from tensorflow.keras.layers import Input\n",
    "from tensorflow.keras.models import Model\n",
    "from tensorflow.keras.optimizers import Adam"
   ]
  },
  {
   "cell_type": "code",
   "execution_count": 159,
   "id": "6829f3e1",
   "metadata": {
    "id": "6829f3e1"
   },
   "outputs": [],
   "source": [
    "# add preprocessing layer to the front of mobile_net\n",
    "IMG_SHAPE = IMAGE_SIZE + (3,)\n",
    "base_model = tf.keras.applications.MobileNetV2(input_shape=IMG_SHAPE,\n",
    "                                               include_top=False,\n",
    "                                               weights='imagenet')"
   ]
  },
  {
   "cell_type": "code",
   "execution_count": 160,
   "id": "c0HVH4UMiAr2",
   "metadata": {
    "id": "c0HVH4UMiAr2"
   },
   "outputs": [],
   "source": [
    "# construct the head of the model that will be placed on top of the\n",
    "# the base model\n",
    "headModel = base_model.output\n",
    "headModel = AveragePooling2D(pool_size=(4, 4))(headModel)\n",
    "headModel = Flatten(name=\"flatten\")(headModel)\n",
    "headModel = Dense(64, activation=\"relu\")(headModel)\n",
    "headModel = Dropout(0.5)(headModel)\n",
    "headModel = Dense(2, activation=\"softmax\")(headModel)\n",
    "\n",
    "# place the head FC model on top of the base model (this will become\n",
    "# the actual model we will train)\n",
    "model = Model(inputs=base_model.input, outputs=headModel)"
   ]
  },
  {
   "cell_type": "code",
   "execution_count": 162,
   "id": "ArhbiPjgiiqv",
   "metadata": {
    "id": "ArhbiPjgiiqv"
   },
   "outputs": [],
   "source": [
    "# loop over all layers in the base model and freeze them so they will\n",
    "# *not* be updated during the first training process\n",
    "for layer in base_model.layers:\n",
    "\tlayer.trainable = False"
   ]
  },
  {
   "cell_type": "code",
   "execution_count": 163,
   "id": "6ce4eafe",
   "metadata": {
    "id": "6ce4eafe"
   },
   "outputs": [],
   "source": [
    "# # don't train existing weights\n",
    "# for layer in base_model.layers:\n",
    "#   layer.trainable = False"
   ]
  },
  {
   "cell_type": "code",
   "execution_count": 164,
   "id": "df87aced",
   "metadata": {
    "id": "df87aced"
   },
   "outputs": [],
   "source": [
    "# # useful for getting number of classes\n",
    "# folders = glob('/content/drive/MyDrive/Dataset/Train/*')"
   ]
  },
  {
   "cell_type": "code",
   "execution_count": 165,
   "id": "369e3320",
   "metadata": {
    "id": "369e3320"
   },
   "outputs": [],
   "source": [
    "# # our layers - you can add more if you want\n",
    "# x = Flatten()(base_model.output)\n",
    "# # x = Dense(1000, activation='softmax')(x)\n",
    "# prediction = Dense(len(folders), activation='softmax')(x)"
   ]
  },
  {
   "cell_type": "code",
   "execution_count": 166,
   "id": "b49f7606",
   "metadata": {
    "id": "b49f7606"
   },
   "outputs": [],
   "source": [
    "# # create a model object\n",
    "# model = Model(inputs=base_model.input, outputs=prediction)"
   ]
  },
  {
   "cell_type": "code",
   "execution_count": 167,
   "id": "11b82dd9",
   "metadata": {
    "colab": {
     "base_uri": "https://localhost:8080/"
    },
    "id": "11b82dd9",
    "outputId": "97a657eb-2082-4dc0-bff1-e8d18307cdc3",
    "scrolled": true
   },
   "outputs": [
    {
     "name": "stdout",
     "output_type": "stream",
     "text": [
      "Model: \"model_3\"\n",
      "__________________________________________________________________________________________________\n",
      " Layer (type)                   Output Shape         Param #     Connected to                     \n",
      "==================================================================================================\n",
      " input_4 (InputLayer)           [(None, 224, 224, 3  0           []                               \n",
      "                                )]                                                                \n",
      "                                                                                                  \n",
      " Conv1 (Conv2D)                 (None, 112, 112, 32  864         ['input_4[0][0]']                \n",
      "                                )                                                                 \n",
      "                                                                                                  \n",
      " bn_Conv1 (BatchNormalization)  (None, 112, 112, 32  128         ['Conv1[0][0]']                  \n",
      "                                )                                                                 \n",
      "                                                                                                  \n",
      " Conv1_relu (ReLU)              (None, 112, 112, 32  0           ['bn_Conv1[0][0]']               \n",
      "                                )                                                                 \n",
      "                                                                                                  \n",
      " expanded_conv_depthwise (Depth  (None, 112, 112, 32  288        ['Conv1_relu[0][0]']             \n",
      " wiseConv2D)                    )                                                                 \n",
      "                                                                                                  \n",
      " expanded_conv_depthwise_BN (Ba  (None, 112, 112, 32  128        ['expanded_conv_depthwise[0][0]']\n",
      " tchNormalization)              )                                                                 \n",
      "                                                                                                  \n",
      " expanded_conv_depthwise_relu (  (None, 112, 112, 32  0          ['expanded_conv_depthwise_BN[0][0\n",
      " ReLU)                          )                                ]']                              \n",
      "                                                                                                  \n",
      " expanded_conv_project (Conv2D)  (None, 112, 112, 16  512        ['expanded_conv_depthwise_relu[0]\n",
      "                                )                                [0]']                            \n",
      "                                                                                                  \n",
      " expanded_conv_project_BN (Batc  (None, 112, 112, 16  64         ['expanded_conv_project[0][0]']  \n",
      " hNormalization)                )                                                                 \n",
      "                                                                                                  \n",
      " block_1_expand (Conv2D)        (None, 112, 112, 96  1536        ['expanded_conv_project_BN[0][0]'\n",
      "                                )                                ]                                \n",
      "                                                                                                  \n",
      " block_1_expand_BN (BatchNormal  (None, 112, 112, 96  384        ['block_1_expand[0][0]']         \n",
      " ization)                       )                                                                 \n",
      "                                                                                                  \n",
      " block_1_expand_relu (ReLU)     (None, 112, 112, 96  0           ['block_1_expand_BN[0][0]']      \n",
      "                                )                                                                 \n",
      "                                                                                                  \n",
      " block_1_pad (ZeroPadding2D)    (None, 113, 113, 96  0           ['block_1_expand_relu[0][0]']    \n",
      "                                )                                                                 \n",
      "                                                                                                  \n",
      " block_1_depthwise (DepthwiseCo  (None, 56, 56, 96)  864         ['block_1_pad[0][0]']            \n",
      " nv2D)                                                                                            \n",
      "                                                                                                  \n",
      " block_1_depthwise_BN (BatchNor  (None, 56, 56, 96)  384         ['block_1_depthwise[0][0]']      \n",
      " malization)                                                                                      \n",
      "                                                                                                  \n",
      " block_1_depthwise_relu (ReLU)  (None, 56, 56, 96)   0           ['block_1_depthwise_BN[0][0]']   \n",
      "                                                                                                  \n",
      " block_1_project (Conv2D)       (None, 56, 56, 24)   2304        ['block_1_depthwise_relu[0][0]'] \n",
      "                                                                                                  \n",
      " block_1_project_BN (BatchNorma  (None, 56, 56, 24)  96          ['block_1_project[0][0]']        \n",
      " lization)                                                                                        \n",
      "                                                                                                  \n",
      " block_2_expand (Conv2D)        (None, 56, 56, 144)  3456        ['block_1_project_BN[0][0]']     \n",
      "                                                                                                  \n",
      " block_2_expand_BN (BatchNormal  (None, 56, 56, 144)  576        ['block_2_expand[0][0]']         \n",
      " ization)                                                                                         \n",
      "                                                                                                  \n",
      " block_2_expand_relu (ReLU)     (None, 56, 56, 144)  0           ['block_2_expand_BN[0][0]']      \n",
      "                                                                                                  \n",
      " block_2_depthwise (DepthwiseCo  (None, 56, 56, 144)  1296       ['block_2_expand_relu[0][0]']    \n",
      " nv2D)                                                                                            \n",
      "                                                                                                  \n",
      " block_2_depthwise_BN (BatchNor  (None, 56, 56, 144)  576        ['block_2_depthwise[0][0]']      \n",
      " malization)                                                                                      \n",
      "                                                                                                  \n",
      " block_2_depthwise_relu (ReLU)  (None, 56, 56, 144)  0           ['block_2_depthwise_BN[0][0]']   \n",
      "                                                                                                  \n",
      " block_2_project (Conv2D)       (None, 56, 56, 24)   3456        ['block_2_depthwise_relu[0][0]'] \n",
      "                                                                                                  \n",
      " block_2_project_BN (BatchNorma  (None, 56, 56, 24)  96          ['block_2_project[0][0]']        \n",
      " lization)                                                                                        \n",
      "                                                                                                  \n",
      " block_2_add (Add)              (None, 56, 56, 24)   0           ['block_1_project_BN[0][0]',     \n",
      "                                                                  'block_2_project_BN[0][0]']     \n",
      "                                                                                                  \n",
      " block_3_expand (Conv2D)        (None, 56, 56, 144)  3456        ['block_2_add[0][0]']            \n",
      "                                                                                                  \n",
      " block_3_expand_BN (BatchNormal  (None, 56, 56, 144)  576        ['block_3_expand[0][0]']         \n",
      " ization)                                                                                         \n",
      "                                                                                                  \n",
      " block_3_expand_relu (ReLU)     (None, 56, 56, 144)  0           ['block_3_expand_BN[0][0]']      \n",
      "                                                                                                  \n",
      " block_3_pad (ZeroPadding2D)    (None, 57, 57, 144)  0           ['block_3_expand_relu[0][0]']    \n",
      "                                                                                                  \n",
      " block_3_depthwise (DepthwiseCo  (None, 28, 28, 144)  1296       ['block_3_pad[0][0]']            \n",
      " nv2D)                                                                                            \n",
      "                                                                                                  \n",
      " block_3_depthwise_BN (BatchNor  (None, 28, 28, 144)  576        ['block_3_depthwise[0][0]']      \n",
      " malization)                                                                                      \n",
      "                                                                                                  \n",
      " block_3_depthwise_relu (ReLU)  (None, 28, 28, 144)  0           ['block_3_depthwise_BN[0][0]']   \n",
      "                                                                                                  \n",
      " block_3_project (Conv2D)       (None, 28, 28, 32)   4608        ['block_3_depthwise_relu[0][0]'] \n",
      "                                                                                                  \n",
      " block_3_project_BN (BatchNorma  (None, 28, 28, 32)  128         ['block_3_project[0][0]']        \n",
      " lization)                                                                                        \n",
      "                                                                                                  \n",
      " block_4_expand (Conv2D)        (None, 28, 28, 192)  6144        ['block_3_project_BN[0][0]']     \n",
      "                                                                                                  \n",
      " block_4_expand_BN (BatchNormal  (None, 28, 28, 192)  768        ['block_4_expand[0][0]']         \n",
      " ization)                                                                                         \n",
      "                                                                                                  \n",
      " block_4_expand_relu (ReLU)     (None, 28, 28, 192)  0           ['block_4_expand_BN[0][0]']      \n",
      "                                                                                                  \n",
      " block_4_depthwise (DepthwiseCo  (None, 28, 28, 192)  1728       ['block_4_expand_relu[0][0]']    \n",
      " nv2D)                                                                                            \n",
      "                                                                                                  \n",
      " block_4_depthwise_BN (BatchNor  (None, 28, 28, 192)  768        ['block_4_depthwise[0][0]']      \n",
      " malization)                                                                                      \n",
      "                                                                                                  \n",
      " block_4_depthwise_relu (ReLU)  (None, 28, 28, 192)  0           ['block_4_depthwise_BN[0][0]']   \n",
      "                                                                                                  \n",
      " block_4_project (Conv2D)       (None, 28, 28, 32)   6144        ['block_4_depthwise_relu[0][0]'] \n",
      "                                                                                                  \n",
      " block_4_project_BN (BatchNorma  (None, 28, 28, 32)  128         ['block_4_project[0][0]']        \n",
      " lization)                                                                                        \n",
      "                                                                                                  \n",
      " block_4_add (Add)              (None, 28, 28, 32)   0           ['block_3_project_BN[0][0]',     \n",
      "                                                                  'block_4_project_BN[0][0]']     \n",
      "                                                                                                  \n",
      " block_5_expand (Conv2D)        (None, 28, 28, 192)  6144        ['block_4_add[0][0]']            \n",
      "                                                                                                  \n",
      " block_5_expand_BN (BatchNormal  (None, 28, 28, 192)  768        ['block_5_expand[0][0]']         \n",
      " ization)                                                                                         \n",
      "                                                                                                  \n",
      " block_5_expand_relu (ReLU)     (None, 28, 28, 192)  0           ['block_5_expand_BN[0][0]']      \n",
      "                                                                                                  \n",
      " block_5_depthwise (DepthwiseCo  (None, 28, 28, 192)  1728       ['block_5_expand_relu[0][0]']    \n",
      " nv2D)                                                                                            \n",
      "                                                                                                  \n",
      " block_5_depthwise_BN (BatchNor  (None, 28, 28, 192)  768        ['block_5_depthwise[0][0]']      \n",
      " malization)                                                                                      \n",
      "                                                                                                  \n",
      " block_5_depthwise_relu (ReLU)  (None, 28, 28, 192)  0           ['block_5_depthwise_BN[0][0]']   \n",
      "                                                                                                  \n",
      " block_5_project (Conv2D)       (None, 28, 28, 32)   6144        ['block_5_depthwise_relu[0][0]'] \n",
      "                                                                                                  \n",
      " block_5_project_BN (BatchNorma  (None, 28, 28, 32)  128         ['block_5_project[0][0]']        \n",
      " lization)                                                                                        \n",
      "                                                                                                  \n",
      " block_5_add (Add)              (None, 28, 28, 32)   0           ['block_4_add[0][0]',            \n",
      "                                                                  'block_5_project_BN[0][0]']     \n",
      "                                                                                                  \n",
      " block_6_expand (Conv2D)        (None, 28, 28, 192)  6144        ['block_5_add[0][0]']            \n",
      "                                                                                                  \n",
      " block_6_expand_BN (BatchNormal  (None, 28, 28, 192)  768        ['block_6_expand[0][0]']         \n",
      " ization)                                                                                         \n",
      "                                                                                                  \n",
      " block_6_expand_relu (ReLU)     (None, 28, 28, 192)  0           ['block_6_expand_BN[0][0]']      \n",
      "                                                                                                  \n",
      " block_6_pad (ZeroPadding2D)    (None, 29, 29, 192)  0           ['block_6_expand_relu[0][0]']    \n",
      "                                                                                                  \n",
      " block_6_depthwise (DepthwiseCo  (None, 14, 14, 192)  1728       ['block_6_pad[0][0]']            \n",
      " nv2D)                                                                                            \n",
      "                                                                                                  \n",
      " block_6_depthwise_BN (BatchNor  (None, 14, 14, 192)  768        ['block_6_depthwise[0][0]']      \n",
      " malization)                                                                                      \n",
      "                                                                                                  \n",
      " block_6_depthwise_relu (ReLU)  (None, 14, 14, 192)  0           ['block_6_depthwise_BN[0][0]']   \n",
      "                                                                                                  \n",
      " block_6_project (Conv2D)       (None, 14, 14, 64)   12288       ['block_6_depthwise_relu[0][0]'] \n",
      "                                                                                                  \n",
      " block_6_project_BN (BatchNorma  (None, 14, 14, 64)  256         ['block_6_project[0][0]']        \n",
      " lization)                                                                                        \n",
      "                                                                                                  \n",
      " block_7_expand (Conv2D)        (None, 14, 14, 384)  24576       ['block_6_project_BN[0][0]']     \n",
      "                                                                                                  \n",
      " block_7_expand_BN (BatchNormal  (None, 14, 14, 384)  1536       ['block_7_expand[0][0]']         \n",
      " ization)                                                                                         \n",
      "                                                                                                  \n",
      " block_7_expand_relu (ReLU)     (None, 14, 14, 384)  0           ['block_7_expand_BN[0][0]']      \n",
      "                                                                                                  \n",
      " block_7_depthwise (DepthwiseCo  (None, 14, 14, 384)  3456       ['block_7_expand_relu[0][0]']    \n",
      " nv2D)                                                                                            \n",
      "                                                                                                  \n",
      " block_7_depthwise_BN (BatchNor  (None, 14, 14, 384)  1536       ['block_7_depthwise[0][0]']      \n",
      " malization)                                                                                      \n",
      "                                                                                                  \n",
      " block_7_depthwise_relu (ReLU)  (None, 14, 14, 384)  0           ['block_7_depthwise_BN[0][0]']   \n",
      "                                                                                                  \n",
      " block_7_project (Conv2D)       (None, 14, 14, 64)   24576       ['block_7_depthwise_relu[0][0]'] \n",
      "                                                                                                  \n",
      " block_7_project_BN (BatchNorma  (None, 14, 14, 64)  256         ['block_7_project[0][0]']        \n",
      " lization)                                                                                        \n",
      "                                                                                                  \n",
      " block_7_add (Add)              (None, 14, 14, 64)   0           ['block_6_project_BN[0][0]',     \n",
      "                                                                  'block_7_project_BN[0][0]']     \n",
      "                                                                                                  \n",
      " block_8_expand (Conv2D)        (None, 14, 14, 384)  24576       ['block_7_add[0][0]']            \n",
      "                                                                                                  \n",
      " block_8_expand_BN (BatchNormal  (None, 14, 14, 384)  1536       ['block_8_expand[0][0]']         \n",
      " ization)                                                                                         \n",
      "                                                                                                  \n",
      " block_8_expand_relu (ReLU)     (None, 14, 14, 384)  0           ['block_8_expand_BN[0][0]']      \n",
      "                                                                                                  \n",
      " block_8_depthwise (DepthwiseCo  (None, 14, 14, 384)  3456       ['block_8_expand_relu[0][0]']    \n",
      " nv2D)                                                                                            \n",
      "                                                                                                  \n",
      " block_8_depthwise_BN (BatchNor  (None, 14, 14, 384)  1536       ['block_8_depthwise[0][0]']      \n",
      " malization)                                                                                      \n",
      "                                                                                                  \n",
      " block_8_depthwise_relu (ReLU)  (None, 14, 14, 384)  0           ['block_8_depthwise_BN[0][0]']   \n",
      "                                                                                                  \n",
      " block_8_project (Conv2D)       (None, 14, 14, 64)   24576       ['block_8_depthwise_relu[0][0]'] \n",
      "                                                                                                  \n",
      " block_8_project_BN (BatchNorma  (None, 14, 14, 64)  256         ['block_8_project[0][0]']        \n",
      " lization)                                                                                        \n",
      "                                                                                                  \n",
      " block_8_add (Add)              (None, 14, 14, 64)   0           ['block_7_add[0][0]',            \n",
      "                                                                  'block_8_project_BN[0][0]']     \n",
      "                                                                                                  \n",
      " block_9_expand (Conv2D)        (None, 14, 14, 384)  24576       ['block_8_add[0][0]']            \n",
      "                                                                                                  \n",
      " block_9_expand_BN (BatchNormal  (None, 14, 14, 384)  1536       ['block_9_expand[0][0]']         \n",
      " ization)                                                                                         \n",
      "                                                                                                  \n",
      " block_9_expand_relu (ReLU)     (None, 14, 14, 384)  0           ['block_9_expand_BN[0][0]']      \n",
      "                                                                                                  \n",
      " block_9_depthwise (DepthwiseCo  (None, 14, 14, 384)  3456       ['block_9_expand_relu[0][0]']    \n",
      " nv2D)                                                                                            \n",
      "                                                                                                  \n",
      " block_9_depthwise_BN (BatchNor  (None, 14, 14, 384)  1536       ['block_9_depthwise[0][0]']      \n",
      " malization)                                                                                      \n",
      "                                                                                                  \n",
      " block_9_depthwise_relu (ReLU)  (None, 14, 14, 384)  0           ['block_9_depthwise_BN[0][0]']   \n",
      "                                                                                                  \n",
      " block_9_project (Conv2D)       (None, 14, 14, 64)   24576       ['block_9_depthwise_relu[0][0]'] \n",
      "                                                                                                  \n",
      " block_9_project_BN (BatchNorma  (None, 14, 14, 64)  256         ['block_9_project[0][0]']        \n",
      " lization)                                                                                        \n",
      "                                                                                                  \n",
      " block_9_add (Add)              (None, 14, 14, 64)   0           ['block_8_add[0][0]',            \n",
      "                                                                  'block_9_project_BN[0][0]']     \n",
      "                                                                                                  \n",
      " block_10_expand (Conv2D)       (None, 14, 14, 384)  24576       ['block_9_add[0][0]']            \n",
      "                                                                                                  \n",
      " block_10_expand_BN (BatchNorma  (None, 14, 14, 384)  1536       ['block_10_expand[0][0]']        \n",
      " lization)                                                                                        \n",
      "                                                                                                  \n",
      " block_10_expand_relu (ReLU)    (None, 14, 14, 384)  0           ['block_10_expand_BN[0][0]']     \n",
      "                                                                                                  \n",
      " block_10_depthwise (DepthwiseC  (None, 14, 14, 384)  3456       ['block_10_expand_relu[0][0]']   \n",
      " onv2D)                                                                                           \n",
      "                                                                                                  \n",
      " block_10_depthwise_BN (BatchNo  (None, 14, 14, 384)  1536       ['block_10_depthwise[0][0]']     \n",
      " rmalization)                                                                                     \n",
      "                                                                                                  \n",
      " block_10_depthwise_relu (ReLU)  (None, 14, 14, 384)  0          ['block_10_depthwise_BN[0][0]']  \n",
      "                                                                                                  \n",
      " block_10_project (Conv2D)      (None, 14, 14, 96)   36864       ['block_10_depthwise_relu[0][0]']\n",
      "                                                                                                  \n",
      " block_10_project_BN (BatchNorm  (None, 14, 14, 96)  384         ['block_10_project[0][0]']       \n",
      " alization)                                                                                       \n",
      "                                                                                                  \n",
      " block_11_expand (Conv2D)       (None, 14, 14, 576)  55296       ['block_10_project_BN[0][0]']    \n",
      "                                                                                                  \n",
      " block_11_expand_BN (BatchNorma  (None, 14, 14, 576)  2304       ['block_11_expand[0][0]']        \n",
      " lization)                                                                                        \n",
      "                                                                                                  \n",
      " block_11_expand_relu (ReLU)    (None, 14, 14, 576)  0           ['block_11_expand_BN[0][0]']     \n",
      "                                                                                                  \n",
      " block_11_depthwise (DepthwiseC  (None, 14, 14, 576)  5184       ['block_11_expand_relu[0][0]']   \n",
      " onv2D)                                                                                           \n",
      "                                                                                                  \n",
      " block_11_depthwise_BN (BatchNo  (None, 14, 14, 576)  2304       ['block_11_depthwise[0][0]']     \n",
      " rmalization)                                                                                     \n",
      "                                                                                                  \n",
      " block_11_depthwise_relu (ReLU)  (None, 14, 14, 576)  0          ['block_11_depthwise_BN[0][0]']  \n",
      "                                                                                                  \n",
      " block_11_project (Conv2D)      (None, 14, 14, 96)   55296       ['block_11_depthwise_relu[0][0]']\n",
      "                                                                                                  \n",
      " block_11_project_BN (BatchNorm  (None, 14, 14, 96)  384         ['block_11_project[0][0]']       \n",
      " alization)                                                                                       \n",
      "                                                                                                  \n",
      " block_11_add (Add)             (None, 14, 14, 96)   0           ['block_10_project_BN[0][0]',    \n",
      "                                                                  'block_11_project_BN[0][0]']    \n",
      "                                                                                                  \n",
      " block_12_expand (Conv2D)       (None, 14, 14, 576)  55296       ['block_11_add[0][0]']           \n",
      "                                                                                                  \n",
      " block_12_expand_BN (BatchNorma  (None, 14, 14, 576)  2304       ['block_12_expand[0][0]']        \n",
      " lization)                                                                                        \n",
      "                                                                                                  \n",
      " block_12_expand_relu (ReLU)    (None, 14, 14, 576)  0           ['block_12_expand_BN[0][0]']     \n",
      "                                                                                                  \n",
      " block_12_depthwise (DepthwiseC  (None, 14, 14, 576)  5184       ['block_12_expand_relu[0][0]']   \n",
      " onv2D)                                                                                           \n",
      "                                                                                                  \n",
      " block_12_depthwise_BN (BatchNo  (None, 14, 14, 576)  2304       ['block_12_depthwise[0][0]']     \n",
      " rmalization)                                                                                     \n",
      "                                                                                                  \n",
      " block_12_depthwise_relu (ReLU)  (None, 14, 14, 576)  0          ['block_12_depthwise_BN[0][0]']  \n",
      "                                                                                                  \n",
      " block_12_project (Conv2D)      (None, 14, 14, 96)   55296       ['block_12_depthwise_relu[0][0]']\n",
      "                                                                                                  \n",
      " block_12_project_BN (BatchNorm  (None, 14, 14, 96)  384         ['block_12_project[0][0]']       \n",
      " alization)                                                                                       \n",
      "                                                                                                  \n",
      " block_12_add (Add)             (None, 14, 14, 96)   0           ['block_11_add[0][0]',           \n",
      "                                                                  'block_12_project_BN[0][0]']    \n",
      "                                                                                                  \n",
      " block_13_expand (Conv2D)       (None, 14, 14, 576)  55296       ['block_12_add[0][0]']           \n",
      "                                                                                                  \n",
      " block_13_expand_BN (BatchNorma  (None, 14, 14, 576)  2304       ['block_13_expand[0][0]']        \n",
      " lization)                                                                                        \n",
      "                                                                                                  \n",
      " block_13_expand_relu (ReLU)    (None, 14, 14, 576)  0           ['block_13_expand_BN[0][0]']     \n",
      "                                                                                                  \n",
      " block_13_pad (ZeroPadding2D)   (None, 15, 15, 576)  0           ['block_13_expand_relu[0][0]']   \n",
      "                                                                                                  \n",
      " block_13_depthwise (DepthwiseC  (None, 7, 7, 576)   5184        ['block_13_pad[0][0]']           \n",
      " onv2D)                                                                                           \n",
      "                                                                                                  \n",
      " block_13_depthwise_BN (BatchNo  (None, 7, 7, 576)   2304        ['block_13_depthwise[0][0]']     \n",
      " rmalization)                                                                                     \n",
      "                                                                                                  \n",
      " block_13_depthwise_relu (ReLU)  (None, 7, 7, 576)   0           ['block_13_depthwise_BN[0][0]']  \n",
      "                                                                                                  \n",
      " block_13_project (Conv2D)      (None, 7, 7, 160)    92160       ['block_13_depthwise_relu[0][0]']\n",
      "                                                                                                  \n",
      " block_13_project_BN (BatchNorm  (None, 7, 7, 160)   640         ['block_13_project[0][0]']       \n",
      " alization)                                                                                       \n",
      "                                                                                                  \n",
      " block_14_expand (Conv2D)       (None, 7, 7, 960)    153600      ['block_13_project_BN[0][0]']    \n",
      "                                                                                                  \n",
      " block_14_expand_BN (BatchNorma  (None, 7, 7, 960)   3840        ['block_14_expand[0][0]']        \n",
      " lization)                                                                                        \n",
      "                                                                                                  \n",
      " block_14_expand_relu (ReLU)    (None, 7, 7, 960)    0           ['block_14_expand_BN[0][0]']     \n",
      "                                                                                                  \n",
      " block_14_depthwise (DepthwiseC  (None, 7, 7, 960)   8640        ['block_14_expand_relu[0][0]']   \n",
      " onv2D)                                                                                           \n",
      "                                                                                                  \n",
      " block_14_depthwise_BN (BatchNo  (None, 7, 7, 960)   3840        ['block_14_depthwise[0][0]']     \n",
      " rmalization)                                                                                     \n",
      "                                                                                                  \n",
      " block_14_depthwise_relu (ReLU)  (None, 7, 7, 960)   0           ['block_14_depthwise_BN[0][0]']  \n",
      "                                                                                                  \n",
      " block_14_project (Conv2D)      (None, 7, 7, 160)    153600      ['block_14_depthwise_relu[0][0]']\n",
      "                                                                                                  \n",
      " block_14_project_BN (BatchNorm  (None, 7, 7, 160)   640         ['block_14_project[0][0]']       \n",
      " alization)                                                                                       \n",
      "                                                                                                  \n",
      " block_14_add (Add)             (None, 7, 7, 160)    0           ['block_13_project_BN[0][0]',    \n",
      "                                                                  'block_14_project_BN[0][0]']    \n",
      "                                                                                                  \n",
      " block_15_expand (Conv2D)       (None, 7, 7, 960)    153600      ['block_14_add[0][0]']           \n",
      "                                                                                                  \n",
      " block_15_expand_BN (BatchNorma  (None, 7, 7, 960)   3840        ['block_15_expand[0][0]']        \n",
      " lization)                                                                                        \n",
      "                                                                                                  \n",
      " block_15_expand_relu (ReLU)    (None, 7, 7, 960)    0           ['block_15_expand_BN[0][0]']     \n",
      "                                                                                                  \n",
      " block_15_depthwise (DepthwiseC  (None, 7, 7, 960)   8640        ['block_15_expand_relu[0][0]']   \n",
      " onv2D)                                                                                           \n",
      "                                                                                                  \n",
      " block_15_depthwise_BN (BatchNo  (None, 7, 7, 960)   3840        ['block_15_depthwise[0][0]']     \n",
      " rmalization)                                                                                     \n",
      "                                                                                                  \n",
      " block_15_depthwise_relu (ReLU)  (None, 7, 7, 960)   0           ['block_15_depthwise_BN[0][0]']  \n",
      "                                                                                                  \n",
      " block_15_project (Conv2D)      (None, 7, 7, 160)    153600      ['block_15_depthwise_relu[0][0]']\n",
      "                                                                                                  \n",
      " block_15_project_BN (BatchNorm  (None, 7, 7, 160)   640         ['block_15_project[0][0]']       \n",
      " alization)                                                                                       \n",
      "                                                                                                  \n",
      " block_15_add (Add)             (None, 7, 7, 160)    0           ['block_14_add[0][0]',           \n",
      "                                                                  'block_15_project_BN[0][0]']    \n",
      "                                                                                                  \n",
      " block_16_expand (Conv2D)       (None, 7, 7, 960)    153600      ['block_15_add[0][0]']           \n",
      "                                                                                                  \n",
      " block_16_expand_BN (BatchNorma  (None, 7, 7, 960)   3840        ['block_16_expand[0][0]']        \n",
      " lization)                                                                                        \n",
      "                                                                                                  \n",
      " block_16_expand_relu (ReLU)    (None, 7, 7, 960)    0           ['block_16_expand_BN[0][0]']     \n",
      "                                                                                                  \n",
      " block_16_depthwise (DepthwiseC  (None, 7, 7, 960)   8640        ['block_16_expand_relu[0][0]']   \n",
      " onv2D)                                                                                           \n",
      "                                                                                                  \n",
      " block_16_depthwise_BN (BatchNo  (None, 7, 7, 960)   3840        ['block_16_depthwise[0][0]']     \n",
      " rmalization)                                                                                     \n",
      "                                                                                                  \n",
      " block_16_depthwise_relu (ReLU)  (None, 7, 7, 960)   0           ['block_16_depthwise_BN[0][0]']  \n",
      "                                                                                                  \n",
      " block_16_project (Conv2D)      (None, 7, 7, 320)    307200      ['block_16_depthwise_relu[0][0]']\n",
      "                                                                                                  \n",
      " block_16_project_BN (BatchNorm  (None, 7, 7, 320)   1280        ['block_16_project[0][0]']       \n",
      " alization)                                                                                       \n",
      "                                                                                                  \n",
      " Conv_1 (Conv2D)                (None, 7, 7, 1280)   409600      ['block_16_project_BN[0][0]']    \n",
      "                                                                                                  \n",
      " Conv_1_bn (BatchNormalization)  (None, 7, 7, 1280)  5120        ['Conv_1[0][0]']                 \n",
      "                                                                                                  \n",
      " out_relu (ReLU)                (None, 7, 7, 1280)   0           ['Conv_1_bn[0][0]']              \n",
      "                                                                                                  \n",
      " average_pooling2d (AveragePool  (None, 1, 1, 1280)  0           ['out_relu[0][0]']               \n",
      " ing2D)                                                                                           \n",
      "                                                                                                  \n",
      " flatten (Flatten)              (None, 1280)         0           ['average_pooling2d[0][0]']      \n",
      "                                                                                                  \n",
      " dense_3 (Dense)                (None, 64)           81984       ['flatten[0][0]']                \n",
      "                                                                                                  \n",
      " dropout (Dropout)              (None, 64)           0           ['dense_3[0][0]']                \n",
      "                                                                                                  \n",
      " dense_4 (Dense)                (None, 2)            130         ['dropout[0][0]']                \n",
      "                                                                                                  \n",
      "==================================================================================================\n",
      "Total params: 2,340,098\n",
      "Trainable params: 82,114\n",
      "Non-trainable params: 2,257,984\n",
      "__________________________________________________________________________________________________\n"
     ]
    }
   ],
   "source": [
    "model.summary()"
   ]
  },
  {
   "cell_type": "code",
   "execution_count": 168,
   "id": "262d476b",
   "metadata": {
    "colab": {
     "base_uri": "https://localhost:8080/"
    },
    "id": "262d476b",
    "outputId": "ebbba80c-d25a-4e29-f4cf-d4e3910deffd"
   },
   "outputs": [
    {
     "name": "stdout",
     "output_type": "stream",
     "text": [
      "159\n"
     ]
    }
   ],
   "source": [
    "nb_layers = len(model.layers)\n",
    "print(nb_layers)"
   ]
  },
  {
   "cell_type": "code",
   "execution_count": 171,
   "id": "0edb49e5",
   "metadata": {
    "colab": {
     "base_uri": "https://localhost:8080/"
    },
    "id": "0edb49e5",
    "outputId": "b8eb9429-984c-4424-c761-4a38eb95dc0f"
   },
   "outputs": [
    {
     "name": "stdout",
     "output_type": "stream",
     "text": [
      "Conv_1\n",
      "Conv_1_bn\n"
     ]
    }
   ],
   "source": [
    "print(base_model.layers[nb_layers - 8].name)\n",
    "print(base_model.layers[nb_layers - 7].name)"
   ]
  },
  {
   "cell_type": "markdown",
   "id": "650295d5",
   "metadata": {
    "id": "650295d5"
   },
   "source": [
    "#### Not Important just for validation of our model"
   ]
  },
  {
   "cell_type": "markdown",
   "id": "e6614e03",
   "metadata": {
    "id": "e6614e03"
   },
   "source": [
    "Next, choose the first batch from the tensorflow dataset to use the images, and run it through the MobileNetV2 base model to test out the predictions on some of your images. "
   ]
  },
  {
   "cell_type": "code",
   "execution_count": 172,
   "id": "47c524cb",
   "metadata": {
    "colab": {
     "base_uri": "https://localhost:8080/"
    },
    "id": "47c524cb",
    "outputId": "61c35317-01c0-49b5-c100-3ee0bf5e1032"
   },
   "outputs": [
    {
     "name": "stderr",
     "output_type": "stream",
     "text": [
      "/usr/local/lib/python3.7/dist-packages/keras_preprocessing/image/image_data_generator.py:720: UserWarning: This ImageDataGenerator specifies `featurewise_center`, but it hasn't been fit on any training data. Fit it first by calling `.fit(numpy_data)`.\n",
      "  warnings.warn('This ImageDataGenerator specifies '\n",
      "/usr/local/lib/python3.7/dist-packages/keras_preprocessing/image/image_data_generator.py:728: UserWarning: This ImageDataGenerator specifies `featurewise_std_normalization`, but it hasn't been fit on any training data. Fit it first by calling `.fit(numpy_data)`.\n",
      "  warnings.warn('This ImageDataGenerator specifies '\n"
     ]
    },
    {
     "name": "stdout",
     "output_type": "stream",
     "text": [
      "(32, 7, 7, 1280)\n"
     ]
    }
   ],
   "source": [
    "image_batch, label_batch = next(iter(training_set))\n",
    "feature_batch = base_model(image_batch)\n",
    "print(feature_batch.shape)"
   ]
  },
  {
   "cell_type": "code",
   "execution_count": 173,
   "id": "9496b54e",
   "metadata": {
    "colab": {
     "base_uri": "https://localhost:8080/"
    },
    "id": "9496b54e",
    "outputId": "65f39233-3a7f-4bac-9976-cf871106dd21"
   },
   "outputs": [
    {
     "data": {
      "text/plain": [
       "array([[0., 1.],\n",
       "       [0., 1.],\n",
       "       [0., 1.],\n",
       "       [1., 0.],\n",
       "       [1., 0.],\n",
       "       [1., 0.],\n",
       "       [0., 1.],\n",
       "       [0., 1.],\n",
       "       [0., 1.],\n",
       "       [0., 1.],\n",
       "       [0., 1.],\n",
       "       [0., 1.],\n",
       "       [1., 0.],\n",
       "       [0., 1.],\n",
       "       [1., 0.],\n",
       "       [0., 1.],\n",
       "       [0., 1.],\n",
       "       [0., 1.],\n",
       "       [0., 1.],\n",
       "       [0., 1.],\n",
       "       [0., 1.],\n",
       "       [0., 1.],\n",
       "       [1., 0.],\n",
       "       [0., 1.],\n",
       "       [0., 1.],\n",
       "       [0., 1.],\n",
       "       [0., 1.],\n",
       "       [0., 1.],\n",
       "       [1., 0.],\n",
       "       [0., 1.],\n",
       "       [1., 0.],\n",
       "       [0., 1.]], dtype=float32)"
      ]
     },
     "execution_count": 173,
     "metadata": {},
     "output_type": "execute_result"
    }
   ],
   "source": [
    "# Not so Important just for validation of our model\n",
    "#Shows the different label probabilities in one tensor \n",
    "label_batch"
   ]
  },
  {
   "cell_type": "markdown",
   "id": "6434fa85",
   "metadata": {
    "id": "6434fa85"
   },
   "source": [
    "Now decode the predictions made by the model. Earlier, when we printed the shape of the batch, it would have returned (32, 1000). The number 32 refers to the batch size and 1000 refers to the 1000 classes the model was pretrained on. The predictions returned by the base model below follow this format:\n",
    "\n",
    "First the class number, then a human-readable label, and last the probability of the image belonging to that class. You'll notice that there are two of these returned for each image in the batch - these the top two probabilities returned for that image."
   ]
  },
  {
   "cell_type": "markdown",
   "id": "b803bc94",
   "metadata": {
    "id": "b803bc94"
   },
   "source": [
    "\n",
    "<font color='blue'>\n",
    "\n",
    "## 4. Compile the Model"
   ]
  },
  {
   "cell_type": "code",
   "execution_count": 174,
   "id": "11622003",
   "metadata": {
    "colab": {
     "base_uri": "https://localhost:8080/"
    },
    "id": "11622003",
    "outputId": "604995ef-16cf-48f4-f7fc-3091ce9185fa"
   },
   "outputs": [
    {
     "name": "stderr",
     "output_type": "stream",
     "text": [
      "/usr/local/lib/python3.7/dist-packages/keras/optimizer_v2/adam.py:105: UserWarning: The `lr` argument is deprecated, use `learning_rate` instead.\n",
      "  super(Adam, self).__init__(name, **kwargs)\n"
     ]
    }
   ],
   "source": [
    "# tell the model what cost and optimization method to use\n",
    "EPOCHS = 20\n",
    "opt = Adam(lr=INIT_LR, decay=INIT_LR / EPOCHS)\n",
    "model.compile(\n",
    "  loss='categorical_crossentropy',\n",
    "  optimizer=opt,\n",
    "  metrics=['accuracy']\n",
    ")"
   ]
  },
  {
   "cell_type": "code",
   "execution_count": 175,
   "id": "eaaaabb4",
   "metadata": {
    "colab": {
     "base_uri": "https://localhost:8080/"
    },
    "id": "eaaaabb4",
    "outputId": "086cefe3-d249-4909-aabb-b0a4d5f16ed3"
   },
   "outputs": [
    {
     "data": {
      "text/plain": [
       "4"
      ]
     },
     "execution_count": 175,
     "metadata": {},
     "output_type": "execute_result"
    }
   ],
   "source": [
    "len(model.trainable_variables)"
   ]
  },
  {
   "cell_type": "markdown",
   "id": "58d4968d",
   "metadata": {
    "id": "58d4968d"
   },
   "source": [
    "### 4.1 Train the Model"
   ]
  },
  {
   "cell_type": "code",
   "execution_count": 176,
   "id": "aeb9adfe",
   "metadata": {
    "colab": {
     "base_uri": "https://localhost:8080/"
    },
    "id": "aeb9adfe",
    "outputId": "21d9e6d2-438d-448d-ce4d-5986a766c3a3"
   },
   "outputs": [
    {
     "name": "stderr",
     "output_type": "stream",
     "text": [
      "/usr/local/lib/python3.7/dist-packages/ipykernel_launcher.py:7: UserWarning: `Model.fit_generator` is deprecated and will be removed in a future version. Please use `Model.fit`, which supports generators.\n",
      "  import sys\n",
      "/usr/local/lib/python3.7/dist-packages/keras_preprocessing/image/image_data_generator.py:720: UserWarning: This ImageDataGenerator specifies `featurewise_center`, but it hasn't been fit on any training data. Fit it first by calling `.fit(numpy_data)`.\n",
      "  warnings.warn('This ImageDataGenerator specifies '\n",
      "/usr/local/lib/python3.7/dist-packages/keras_preprocessing/image/image_data_generator.py:728: UserWarning: This ImageDataGenerator specifies `featurewise_std_normalization`, but it hasn't been fit on any training data. Fit it first by calling `.fit(numpy_data)`.\n",
      "  warnings.warn('This ImageDataGenerator specifies '\n"
     ]
    },
    {
     "name": "stdout",
     "output_type": "stream",
     "text": [
      "Epoch 1/20\n",
      "346/346 [==============================] - 204s 578ms/step - loss: 0.3760 - accuracy: 0.8474 - val_loss: 0.3047 - val_accuracy: 0.8686\n",
      "Epoch 2/20\n",
      "346/346 [==============================] - 201s 581ms/step - loss: 0.3166 - accuracy: 0.8755 - val_loss: 0.2687 - val_accuracy: 0.8838\n",
      "Epoch 3/20\n",
      "346/346 [==============================] - 197s 568ms/step - loss: 0.2875 - accuracy: 0.8849 - val_loss: 0.2631 - val_accuracy: 0.8841\n",
      "Epoch 4/20\n",
      "346/346 [==============================] - 198s 571ms/step - loss: 0.2812 - accuracy: 0.8829 - val_loss: 0.2592 - val_accuracy: 0.8874\n",
      "Epoch 5/20\n",
      "346/346 [==============================] - 196s 566ms/step - loss: 0.2748 - accuracy: 0.8879 - val_loss: 0.2298 - val_accuracy: 0.9041\n",
      "Epoch 6/20\n",
      "346/346 [==============================] - 196s 566ms/step - loss: 0.2614 - accuracy: 0.8941 - val_loss: 0.2475 - val_accuracy: 0.8965\n",
      "Epoch 7/20\n",
      "346/346 [==============================] - 195s 564ms/step - loss: 0.2619 - accuracy: 0.8915 - val_loss: 0.2391 - val_accuracy: 0.8957\n",
      "Epoch 8/20\n",
      "346/346 [==============================] - 192s 555ms/step - loss: 0.2585 - accuracy: 0.8929 - val_loss: 0.2479 - val_accuracy: 0.8870\n",
      "Epoch 9/20\n",
      "346/346 [==============================] - 192s 554ms/step - loss: 0.2461 - accuracy: 0.8989 - val_loss: 0.2376 - val_accuracy: 0.9004\n",
      "Epoch 10/20\n",
      "346/346 [==============================] - 190s 549ms/step - loss: 0.2418 - accuracy: 0.9017 - val_loss: 0.2397 - val_accuracy: 0.8888\n",
      "Epoch 11/20\n",
      "346/346 [==============================] - 193s 559ms/step - loss: 0.2432 - accuracy: 0.8983 - val_loss: 0.2439 - val_accuracy: 0.8965\n",
      "Epoch 12/20\n",
      "346/346 [==============================] - 198s 572ms/step - loss: 0.2386 - accuracy: 0.9007 - val_loss: 0.2294 - val_accuracy: 0.8961\n",
      "Epoch 13/20\n",
      "346/346 [==============================] - 195s 562ms/step - loss: 0.2337 - accuracy: 0.9022 - val_loss: 0.2239 - val_accuracy: 0.9019\n",
      "Epoch 14/20\n",
      "346/346 [==============================] - 195s 563ms/step - loss: 0.2353 - accuracy: 0.9050 - val_loss: 0.2284 - val_accuracy: 0.8968\n",
      "Epoch 15/20\n",
      "346/346 [==============================] - 194s 560ms/step - loss: 0.2330 - accuracy: 0.9024 - val_loss: 0.2369 - val_accuracy: 0.8983\n",
      "Epoch 16/20\n",
      "346/346 [==============================] - 197s 570ms/step - loss: 0.2296 - accuracy: 0.9090 - val_loss: 0.2216 - val_accuracy: 0.9026\n",
      "Epoch 17/20\n",
      "346/346 [==============================] - 199s 575ms/step - loss: 0.2282 - accuracy: 0.9096 - val_loss: 0.2329 - val_accuracy: 0.8975\n",
      "Epoch 18/20\n",
      "346/346 [==============================] - 197s 571ms/step - loss: 0.2250 - accuracy: 0.9074 - val_loss: 0.2257 - val_accuracy: 0.8990\n",
      "Epoch 19/20\n",
      "346/346 [==============================] - 193s 559ms/step - loss: 0.2209 - accuracy: 0.9092 - val_loss: 0.2227 - val_accuracy: 0.9098\n",
      "Epoch 20/20\n",
      "346/346 [==============================] - 193s 559ms/step - loss: 0.2245 - accuracy: 0.9114 - val_loss: 0.1999 - val_accuracy: 0.9175\n"
     ]
    }
   ],
   "source": [
    "# fit the model\n",
    "# initial_epochs = 10\n",
    "history = model.fit_generator(training_set,\n",
    "                        validation_data=validation_set,\n",
    "                        epochs=EPOCHS,\n",
    "                        steps_per_epoch=len(training_set),\n",
    "                        validation_steps=len(validation_set))"
   ]
  },
  {
   "cell_type": "markdown",
   "id": "54390148",
   "metadata": {
    "id": "54390148"
   },
   "source": [
    "### 4.2 Learning curves\n",
    "\n",
    "Plot the training and validation accuracy:"
   ]
  },
  {
   "cell_type": "code",
   "execution_count": 177,
   "id": "93bafc5c",
   "metadata": {
    "colab": {
     "base_uri": "https://localhost:8080/",
     "height": 513
    },
    "id": "93bafc5c",
    "outputId": "8b486426-e165-46db-8102-02efe042a922"
   },
   "outputs": [
    {
     "data": {
      "image/png": "[encoded data removed]",
      "text/plain": [
       "<Figure size 576x576 with 2 Axes>"
      ]
     },
     "metadata": {
      "needs_background": "light"
     },
     "output_type": "display_data"
    }
   ],
   "source": [
    "acc = [0.] + history.history['accuracy']\n",
    "val_acc = [0.] + history.history['val_accuracy']\n",
    "\n",
    "loss = history.history['loss']\n",
    "val_loss = history.history['val_loss']\n",
    "\n",
    "plt.figure(figsize=(8, 8))\n",
    "plt.subplot(2, 1, 1)\n",
    "plt.plot(acc, label='Training Accuracy')\n",
    "plt.plot(val_acc, label='Validation Accuracy')\n",
    "plt.legend(loc='lower right')\n",
    "plt.ylabel('Accuracy')\n",
    "plt.ylim([min(plt.ylim()),1])\n",
    "plt.title('Training and Validation Accuracy')\n",
    "\n",
    "plt.subplot(2, 1, 2)\n",
    "plt.plot(loss, label='Training Loss')\n",
    "plt.plot(val_loss, label='Validation Loss')\n",
    "plt.legend(loc='upper right')\n",
    "plt.ylabel('Cross Entropy')\n",
    "plt.ylim([0,2.0])\n",
    "plt.title('Training and Validation Loss')\n",
    "plt.xlabel('epoch')\n",
    "plt.show()"
   ]
  },
  {
   "cell_type": "code",
   "execution_count": 178,
   "id": "06927826",
   "metadata": {
    "colab": {
     "base_uri": "https://localhost:8080/"
    },
    "id": "06927826",
    "outputId": "4c726ca7-fa40-4bd8-c267-86857d0126d1"
   },
   "outputs": [
    {
     "data": {
      "text/plain": [
       "{'Covid': 0, 'Normal': 1}"
      ]
     },
     "execution_count": 178,
     "metadata": {},
     "output_type": "execute_result"
    }
   ],
   "source": [
    "class_names"
   ]
  },
  {
   "cell_type": "markdown",
   "id": "3bea63e8",
   "metadata": {
    "id": "3bea63e8"
   },
   "source": [
    "\n",
    "<font color='blue'>\n",
    "\n",
    "## 5. Confusion Matrix"
   ]
  },
  {
   "cell_type": "code",
   "execution_count": 183,
   "id": "YvB6AyOx0UcU",
   "metadata": {
    "id": "YvB6AyOx0UcU"
   },
   "outputs": [],
   "source": [
    "from sklearn.metrics import precision_score, recall_score,accuracy_score, f1_score"
   ]
  },
  {
   "cell_type": "code",
   "execution_count": 179,
   "id": "bbc1d035",
   "metadata": {
    "colab": {
     "base_uri": "https://localhost:8080/"
    },
    "id": "bbc1d035",
    "outputId": "d38848bf-2f71-46f1-faf3-001761bd1a26"
   },
   "outputs": [
    {
     "name": "stdout",
     "output_type": "stream",
     "text": [
      "87/87 [==============================] - 14s 165ms/step - loss: 0.1999 - accuracy: 0.9175\n"
     ]
    }
   ],
   "source": [
    "loss, accuracy = model.evaluate(validation_set)\n",
    "print('Validation accuracy :', accuracy)"
   ]
  },
  {
   "cell_type": "code",
   "execution_count": 180,
   "id": "2385352e",
   "metadata": {
    "id": "2385352e"
   },
   "outputs": [],
   "source": [
    "# predict classes of validation dataset\n",
    "val_predict = model.predict(validation_set)"
   ]
  },
  {
   "cell_type": "code",
   "execution_count": 181,
   "id": "79c1b023",
   "metadata": {
    "id": "79c1b023"
   },
   "outputs": [],
   "source": [
    "predict_class = np.argmax(val_predict, axis=1)\n",
    "predict_class = predict_class.tolist()"
   ]
  },
  {
   "cell_type": "code",
   "execution_count": 186,
   "id": "29ffa1c4",
   "metadata": {
    "colab": {
     "base_uri": "https://localhost:8080/",
     "height": 664
    },
    "id": "29ffa1c4",
    "outputId": "bfbcb924-8b7e-40dc-81e3-6cfaaf428838"
   },
   "outputs": [
    {
     "name": "stdout",
     "output_type": "stream",
     "text": [
      "Accuracy: 0.9174511223750905\n",
      "F1 score: 0.8853190559440559\n",
      "Recall: 0.86062378365985\n",
      "Precision: 0.921679641799095\n",
      "\n",
      " clasification report:\n",
      "               precision    recall  f1-score   support\n",
      "\n",
      "       Covid       0.93      0.74      0.82       723\n",
      "      Normal       0.91      0.98      0.95      2039\n",
      "\n",
      "    accuracy                           0.92      2762\n",
      "   macro avg       0.92      0.86      0.89      2762\n",
      "weighted avg       0.92      0.92      0.91      2762\n",
      "\n"
     ]
    },
    {
     "data": {
      "image/png": "[encoded data removed]",
      "text/plain": [
       "<Figure size 576x432 with 2 Axes>"
      ]
     },
     "metadata": {
      "needs_background": "light"
     },
     "output_type": "display_data"
    }
   ],
   "source": [
    "print ('Accuracy:', accuracy_score(validation_set.classes, predict_class))\n",
    "print ('F1 score:', f1_score(validation_set.classes, predict_class, average='macro'))\n",
    "print ('Recall:', recall_score(validation_set.classes, predict_class, average='macro'))\n",
    "print ('Precision:', precision_score(validation_set.classes, predict_class, average='macro'))\n",
    "\n",
    "labels = ['Covid', 'Normal',]\n",
    "report = classification_report(validation_set.classes, predict_class, target_names=labels)\n",
    "print('\\n clasification report:\\n', report)\n",
    "\n",
    "cm = confusion_matrix(validation_set.classes, predict_class)\n",
    "cm_df = pd.DataFrame(cm,\n",
    "                     index = ['COVID','NORMAL'], \n",
    "                     columns = ['COVID','NORMAL'])\n",
    "\n",
    "plt.figure(figsize=(8,6))\n",
    "sns.heatmap(cm_df, annot=True, fmt='d')\n",
    "plt.title(\"Confusion Matrixx\")\n",
    "plt.xlabel(\"Predicted\")\n",
    "plt.ylabel(\"Actual\")\n",
    "plt.show()"
   ]
  },
  {
   "cell_type": "markdown",
   "id": "3b5d6a90",
   "metadata": {},
   "source": [
    "### 5.1 AUC & ROC Curve"
   ]
  },
  {
   "cell_type": "code",
   "execution_count": 1,
   "id": "goKJCwMb11Ui",
   "metadata": {
    "id": "goKJCwMb11Ui"
   },
   "outputs": [
    {
     "ename": "NameError",
     "evalue": "name 'validation_set' is not defined",
     "output_type": "error",
     "traceback": [
      "\u001b[1;31m---------------------------------------------------------------------------\u001b[0m",
      "\u001b[1;31mNameError\u001b[0m                                 Traceback (most recent call last)",
      "\u001b[1;32m<ipython-input-1-8db65a64d213>\u001b[0m in \u001b[0;36m<module>\u001b[1;34m\u001b[0m\n\u001b[0;32m      1\u001b[0m \u001b[1;32mfrom\u001b[0m \u001b[0msklearn\u001b[0m\u001b[1;33m.\u001b[0m\u001b[0mmetrics\u001b[0m \u001b[1;32mimport\u001b[0m \u001b[0mroc_curve\u001b[0m\u001b[1;33m,\u001b[0m \u001b[0mauc\u001b[0m\u001b[1;33m\u001b[0m\u001b[1;33m\u001b[0m\u001b[0m\n\u001b[1;32m----> 2\u001b[1;33m \u001b[0mfalse_positive_rate\u001b[0m\u001b[1;33m,\u001b[0m \u001b[0mtrue_positive_rate\u001b[0m\u001b[1;33m,\u001b[0m \u001b[0mthresholds\u001b[0m \u001b[1;33m=\u001b[0m \u001b[0mroc_curve\u001b[0m\u001b[1;33m(\u001b[0m\u001b[0mvalidation_set\u001b[0m\u001b[1;33m.\u001b[0m\u001b[0mclasses\u001b[0m\u001b[1;33m,\u001b[0m \u001b[0mpredict_class\u001b[0m\u001b[1;33m)\u001b[0m\u001b[1;33m\u001b[0m\u001b[1;33m\u001b[0m\u001b[0m\n\u001b[0m\u001b[0;32m      3\u001b[0m \u001b[0mroc_auc\u001b[0m \u001b[1;33m=\u001b[0m \u001b[0mauc\u001b[0m\u001b[1;33m(\u001b[0m\u001b[0mfalse_positive_rate\u001b[0m\u001b[1;33m,\u001b[0m \u001b[0mtrue_positive_rate\u001b[0m\u001b[1;33m)\u001b[0m\u001b[1;33m\u001b[0m\u001b[1;33m\u001b[0m\u001b[0m\n\u001b[0;32m      4\u001b[0m \u001b[0mroc_auc\u001b[0m\u001b[1;33m\u001b[0m\u001b[1;33m\u001b[0m\u001b[0m\n\u001b[0;32m      5\u001b[0m \u001b[1;33m\u001b[0m\u001b[0m\n",
      "\u001b[1;31mNameError\u001b[0m: name 'validation_set' is not defined"
     ]
    }
   ],
   "source": [
    "from sklearn.metrics import roc_curve, auc\n",
    "false_positive_rate, true_positive_rate, thresholds = roc_curve(validation_set.classes, predict_class)\n",
    "roc_auc = auc(false_positive_rate, true_positive_rate)\n",
    "roc_auc\n",
    "\n",
    "import matplotlib.pyplot as plt\n",
    "plt.figure(figsize=(10,10))\n",
    "plt.title('Receiver Operating Characteristic')\n",
    "plt.plot(false_positive_rate,true_positive_rate, color='red',label = 'AUC = %0.2f' % roc_auc)\n",
    "plt.legend(loc = 'lower right')\n",
    "plt.plot([0, 1], [0, 1],linestyle='--')\n",
    "plt.axis('tight')\n",
    "plt.ylabel('True Positive Rate')\n",
    "plt.xlabel('False Positive Rate')"
   ]
  },
  {
   "cell_type": "code",
   "execution_count": null,
   "id": "396b7c13",
   "metadata": {},
   "outputs": [],
   "source": []
  },
  {
   "cell_type": "code",
   "execution_count": null,
   "id": "eafdb496",
   "metadata": {},
   "outputs": [],
   "source": [
    "import tensorflow as tf\n",
    "\n",
    "from keras.models import load_model\n",
    "\n",
    "model.save('MobileNetV2.h5')"
   ]
  },
  {
   "cell_type": "markdown",
   "id": "692a5c12",
   "metadata": {
    "id": "692a5c12"
   },
   "source": [
    "The results are ok, but could be better, now let's go for fine-tuning"
   ]
  },
  {
   "cell_type": "markdown",
   "id": "00adde05",
   "metadata": {
    "id": "00adde05"
   },
   "source": [
    "<font color='blue'>\n",
    "\n",
    "## 6. Fine Tuning\n",
    "\n"
   ]
  },
  {
   "cell_type": "markdown",
   "id": "15afb889",
   "metadata": {
    "id": "15afb889"
   },
   "source": [
    "We could try fine-tuning the model by re-running the optimizer in the last layers to improve accuracy. When we use a smaller learning rate, we take smaller steps to adapt it a little more closely to the new data. In transfer learning, the way we achieve this is by unfreezing the layers at the end of the network, and then re-training your model on the final layers with a very low learning rate. Adapting your learning rate to go over these layers in smaller steps can yield more fine details - and higher accuracy.\n",
    "\n",
    "The intuition for what's happening: when the network is in its earlier stages, it trains on low-level features, like edges. In the later layers, more complex, high-level features like wispy hair or pointy ears begin to emerge. For transfer learning, the low-level features can be kept the same, as they have common features for most images. When you add new data, you generally want the high-level features to adapt to it, which is rather like letting the network learn to detect features more related to your data, such as soft fur or big teeth. \n",
    "\n",
    "To achieve this, just unfreeze the final layers and re-run the optimizer with a smaller learning rate, while keeping all the other layers frozen.\n",
    "\n",
    "Where the final layers actually begin is a bit arbitrary, so feel free to play around with this number a bit. The important takeaway is that the later layers are the part of your network that contain the fine details (pointy ears, hairy tails) that are more specific to your problem.\n",
    "\n",
    "First, unfreeze the base model by setting `base_model.trainable=True`, set a layer to fine-tune from, then re-freeze all the layers before it. Run it again for another few epochs, and see if our accuracy improved!"
   ]
  },
  {
   "cell_type": "markdown",
   "id": "76b64753",
   "metadata": {
    "id": "76b64753"
   },
   "source": [
    "### Un-freeze the top layers of the model\n",
    "\n",
    "All we need to do is unfreeze the base_model and set the bottom layers to be un-trainable. Then, we should recompile the model (necessary for these changes to take effect), and resume training."
   ]
  },
  {
   "cell_type": "code",
   "execution_count": 188,
   "id": "lEY77j4z3VEx",
   "metadata": {
    "id": "lEY77j4z3VEx"
   },
   "outputs": [],
   "source": [
    "# # now that the head FC layers have been trained/initialized, lets\n",
    "# # unfreeze the final set of CONV layers and make them trainable\n",
    "# for layer in base_model.layers[15:]:\n",
    "# \tlayer.trainable = True\n",
    "# # loop over the layers in the model and show which ones are trainable\n",
    "# # or not\n",
    "# for layer in base_model.layers:\n",
    "# \tprint(\"{}: {}\".format(layer, layer.trainable))"
   ]
  },
  {
   "cell_type": "code",
   "execution_count": 193,
   "id": "8de0e942",
   "metadata": {
    "id": "8de0e942"
   },
   "outputs": [],
   "source": [
    "base_model.trainable = True"
   ]
  },
  {
   "cell_type": "code",
   "execution_count": 194,
   "id": "9e7fec64",
   "metadata": {
    "colab": {
     "base_uri": "https://localhost:8080/"
    },
    "id": "9e7fec64",
    "outputId": "57580ecd-1d5b-47b7-aeb5-a498c057d70a"
   },
   "outputs": [
    {
     "name": "stdout",
     "output_type": "stream",
     "text": [
      "Number of layers in the base model:  154\n"
     ]
    }
   ],
   "source": [
    "# Let's take a look to see how many layers are in the base model\n",
    "print(\"Number of layers in the base model: \", len(base_model.layers))\n",
    "\n",
    "# Fine-tune from this layer onwards\n",
    "fine_tune_at = 120\n",
    "\n",
    "# Freeze all the layers before the `fine_tune_at` layer\n",
    "for layer in base_model.layers[:fine_tune_at]:\n",
    "    layer.trainable = False"
   ]
  },
  {
   "cell_type": "code",
   "execution_count": 195,
   "id": "5ZqK42oS4AF4",
   "metadata": {
    "colab": {
     "base_uri": "https://localhost:8080/"
    },
    "id": "5ZqK42oS4AF4",
    "outputId": "0328e443-2a93-46d5-f32b-a35191d921b9"
   },
   "outputs": [
    {
     "name": "stdout",
     "output_type": "stream",
     "text": [
      "<keras.engine.input_layer.InputLayer object at 0x7f7c7cd55e50>: False\n",
      "<keras.layers.convolutional.Conv2D object at 0x7f7d70218050>: False\n",
      "<keras.layers.normalization.batch_normalization.BatchNormalization object at 0x7f7d70226490>: False\n",
      "<keras.layers.advanced_activations.ReLU object at 0x7f7c7d07e490>: False\n",
      "<keras.layers.convolutional.DepthwiseConv2D object at 0x7f7c8cc87150>: False\n",
      "<keras.layers.normalization.batch_normalization.BatchNormalization object at 0x7f7c7d088c10>: False\n",
      "<keras.layers.advanced_activations.ReLU object at 0x7f7c7cf7a690>: False\n",
      "<keras.layers.convolutional.Conv2D object at 0x7f7c7d09fe90>: False\n",
      "<keras.layers.normalization.batch_normalization.BatchNormalization object at 0x7f7c7d0ab5d0>: False\n",
      "<keras.layers.convolutional.Conv2D object at 0x7f7c7d095810>: False\n",
      "<keras.layers.normalization.batch_normalization.BatchNormalization object at 0x7f7c7d0a9790>: False\n",
      "<keras.layers.advanced_activations.ReLU object at 0x7f7c7d078e10>: False\n",
      "<keras.layers.convolutional.ZeroPadding2D object at 0x7f7c7d0a35d0>: False\n",
      "<keras.layers.convolutional.DepthwiseConv2D object at 0x7f7c7d0b2850>: False\n",
      "<keras.layers.normalization.batch_normalization.BatchNormalization object at 0x7f7c7d1a2090>: False\n",
      "<keras.layers.advanced_activations.ReLU object at 0x7f7c7d191390>: False\n",
      "<keras.layers.convolutional.Conv2D object at 0x7f7c7d191710>: False\n",
      "<keras.layers.normalization.batch_normalization.BatchNormalization object at 0x7f7c7d1a8a50>: False\n",
      "<keras.layers.convolutional.Conv2D object at 0x7f7c7d191490>: False\n",
      "<keras.layers.normalization.batch_normalization.BatchNormalization object at 0x7f7c7d1af050>: False\n",
      "<keras.layers.advanced_activations.ReLU object at 0x7f7c7d175290>: False\n",
      "<keras.layers.convolutional.DepthwiseConv2D object at 0x7f7c7cf7aad0>: False\n",
      "<keras.layers.normalization.batch_normalization.BatchNormalization object at 0x7f7c7d1aa050>: False\n",
      "<keras.layers.advanced_activations.ReLU object at 0x7f7d70226f10>: False\n",
      "<keras.layers.convolutional.Conv2D object at 0x7f7c7d1ac990>: False\n",
      "<keras.layers.normalization.batch_normalization.BatchNormalization object at 0x7f7c7d0dd690>: False\n",
      "<keras.layers.merge.Add object at 0x7f7c7d0c5810>: False\n",
      "<keras.layers.convolutional.Conv2D object at 0x7f7c7d0c5050>: False\n",
      "<keras.layers.normalization.batch_normalization.BatchNormalization object at 0x7f7c7d0cd5d0>: False\n",
      "<keras.layers.advanced_activations.ReLU object at 0x7f7c7d0d6390>: False\n",
      "<keras.layers.convolutional.ZeroPadding2D object at 0x7f7c7d0df690>: False\n",
      "<keras.layers.convolutional.DepthwiseConv2D object at 0x7f7c7d0bff90>: False\n",
      "<keras.layers.normalization.batch_normalization.BatchNormalization object at 0x7f7c7d0dab10>: False\n",
      "<keras.layers.advanced_activations.ReLU object at 0x7f7c7ceb71d0>: False\n",
      "<keras.layers.convolutional.Conv2D object at 0x7f7c7d0d1b10>: False\n",
      "<keras.layers.normalization.batch_normalization.BatchNormalization object at 0x7f7c7ceddc10>: False\n",
      "<keras.layers.convolutional.Conv2D object at 0x7f7c7cee9ad0>: False\n",
      "<keras.layers.normalization.batch_normalization.BatchNormalization object at 0x7f7c7d0da790>: False\n",
      "<keras.layers.advanced_activations.ReLU object at 0x7f7c7cebb150>: False\n",
      "<keras.layers.convolutional.DepthwiseConv2D object at 0x7f7c7cebb1d0>: False\n",
      "<keras.layers.normalization.batch_normalization.BatchNormalization object at 0x7f7c7d0a36d0>: False\n",
      "<keras.layers.advanced_activations.ReLU object at 0x7f7c7ceb52d0>: False\n",
      "<keras.layers.convolutional.Conv2D object at 0x7f7c7ceea990>: False\n",
      "<keras.layers.normalization.batch_normalization.BatchNormalization object at 0x7f7c7cee9a90>: False\n",
      "<keras.layers.merge.Add object at 0x7f7c7d0c9690>: False\n",
      "<keras.layers.convolutional.Conv2D object at 0x7f7c7ceca290>: False\n",
      "<keras.layers.normalization.batch_normalization.BatchNormalization object at 0x7f7c7ceb5090>: False\n",
      "<keras.layers.advanced_activations.ReLU object at 0x7f7c7d0d1e90>: False\n",
      "<keras.layers.convolutional.DepthwiseConv2D object at 0x7f7c7d0b9d90>: False\n",
      "<keras.layers.normalization.batch_normalization.BatchNormalization object at 0x7f7c7ceb5b90>: False\n",
      "<keras.layers.advanced_activations.ReLU object at 0x7f7c7d0af6d0>: False\n",
      "<keras.layers.convolutional.Conv2D object at 0x7f7c7d09fd50>: False\n",
      "<keras.layers.normalization.batch_normalization.BatchNormalization object at 0x7f7c82094550>: False\n",
      "<keras.layers.merge.Add object at 0x7f7c7ced1ad0>: False\n",
      "<keras.layers.convolutional.Conv2D object at 0x7f7c7d0aa6d0>: False\n",
      "<keras.layers.normalization.batch_normalization.BatchNormalization object at 0x7f7c7d0aad50>: False\n",
      "<keras.layers.advanced_activations.ReLU object at 0x7f7d701e7150>: False\n",
      "<keras.layers.convolutional.ZeroPadding2D object at 0x7f7d701e7c10>: False\n",
      "<keras.layers.convolutional.DepthwiseConv2D object at 0x7f7d701e7f90>: False\n",
      "<keras.layers.normalization.batch_normalization.BatchNormalization object at 0x7f7c7d198550>: False\n",
      "<keras.layers.advanced_activations.ReLU object at 0x7f7c7d0af250>: False\n",
      "<keras.layers.convolutional.Conv2D object at 0x7f7d70202910>: False\n",
      "<keras.layers.normalization.batch_normalization.BatchNormalization object at 0x7f7c7ceceb90>: False\n",
      "<keras.layers.convolutional.Conv2D object at 0x7f7d701d9050>: False\n",
      "<keras.layers.normalization.batch_normalization.BatchNormalization object at 0x7f7d701f6a90>: False\n",
      "<keras.layers.advanced_activations.ReLU object at 0x7f7d701fc410>: False\n",
      "<keras.layers.convolutional.DepthwiseConv2D object at 0x7f7d70208290>: False\n",
      "<keras.layers.normalization.batch_normalization.BatchNormalization object at 0x7f7c7d0aab50>: False\n",
      "<keras.layers.advanced_activations.ReLU object at 0x7f7c80975e10>: False\n",
      "<keras.layers.convolutional.Conv2D object at 0x7f7c80943350>: False\n",
      "<keras.layers.normalization.batch_normalization.BatchNormalization object at 0x7f7d701e7f50>: False\n",
      "<keras.layers.merge.Add object at 0x7f7c80972c10>: False\n",
      "<keras.layers.convolutional.Conv2D object at 0x7f7c80972910>: False\n",
      "<keras.layers.normalization.batch_normalization.BatchNormalization object at 0x7f7c809709d0>: False\n",
      "<keras.layers.advanced_activations.ReLU object at 0x7f7c80964e10>: False\n",
      "<keras.layers.convolutional.DepthwiseConv2D object at 0x7f7c809516d0>: False\n",
      "<keras.layers.normalization.batch_normalization.BatchNormalization object at 0x7f7c80975290>: False\n",
      "<keras.layers.advanced_activations.ReLU object at 0x7f7d700dd0d0>: False\n",
      "<keras.layers.convolutional.Conv2D object at 0x7f7d700dd550>: False\n",
      "<keras.layers.normalization.batch_normalization.BatchNormalization object at 0x7f7c80973a50>: False\n",
      "<keras.layers.merge.Add object at 0x7f7d700ee0d0>: False\n",
      "<keras.layers.convolutional.Conv2D object at 0x7f7d700fda10>: False\n",
      "<keras.layers.normalization.batch_normalization.BatchNormalization object at 0x7f7d700dd1d0>: False\n",
      "<keras.layers.advanced_activations.ReLU object at 0x7f7c8094ec90>: False\n",
      "<keras.layers.convolutional.DepthwiseConv2D object at 0x7f7c809755d0>: False\n",
      "<keras.layers.normalization.batch_normalization.BatchNormalization object at 0x7f7c80951f90>: False\n",
      "<keras.layers.advanced_activations.ReLU object at 0x7f7d701fcd50>: False\n",
      "<keras.layers.convolutional.Conv2D object at 0x7f7d7020de90>: False\n",
      "<keras.layers.normalization.batch_normalization.BatchNormalization object at 0x7f7d702028d0>: False\n",
      "<keras.layers.merge.Add object at 0x7f7d702029d0>: False\n",
      "<keras.layers.convolutional.Conv2D object at 0x7f7d701dcc90>: False\n",
      "<keras.layers.normalization.batch_normalization.BatchNormalization object at 0x7f7c80964a90>: False\n",
      "<keras.layers.advanced_activations.ReLU object at 0x7f7c7d186b50>: False\n",
      "<keras.layers.convolutional.DepthwiseConv2D object at 0x7f7c7d0bf8d0>: False\n",
      "<keras.layers.normalization.batch_normalization.BatchNormalization object at 0x7f7c80966cd0>: False\n",
      "<keras.layers.advanced_activations.ReLU object at 0x7f7c7d0a2a10>: False\n",
      "<keras.layers.convolutional.Conv2D object at 0x7f7c7d0c9290>: False\n",
      "<keras.layers.normalization.batch_normalization.BatchNormalization object at 0x7f7c809438d0>: False\n",
      "<keras.layers.convolutional.Conv2D object at 0x7f7d700ea210>: False\n",
      "<keras.layers.normalization.batch_normalization.BatchNormalization object at 0x7f7c7cece810>: False\n",
      "<keras.layers.advanced_activations.ReLU object at 0x7f7c80ab89d0>: False\n",
      "<keras.layers.convolutional.DepthwiseConv2D object at 0x7f7d700ea290>: False\n",
      "<keras.layers.normalization.batch_normalization.BatchNormalization object at 0x7f7c7ced1a90>: False\n",
      "<keras.layers.advanced_activations.ReLU object at 0x7f7c80a8e310>: False\n",
      "<keras.layers.convolutional.Conv2D object at 0x7f7c80a8e450>: False\n",
      "<keras.layers.normalization.batch_normalization.BatchNormalization object at 0x7f7d700ea410>: False\n",
      "<keras.layers.merge.Add object at 0x7f7c80ab1ad0>: False\n",
      "<keras.layers.convolutional.Conv2D object at 0x7f7c80a8ea90>: False\n",
      "<keras.layers.normalization.batch_normalization.BatchNormalization object at 0x7f7c80a7cf90>: False\n",
      "<keras.layers.advanced_activations.ReLU object at 0x7f7c80a90910>: False\n",
      "<keras.layers.convolutional.DepthwiseConv2D object at 0x7f7c80aa6c50>: False\n",
      "<keras.layers.normalization.batch_normalization.BatchNormalization object at 0x7f7c80a90f50>: False\n",
      "<keras.layers.advanced_activations.ReLU object at 0x7f7c7d1f86d0>: False\n",
      "<keras.layers.convolutional.Conv2D object at 0x7f7c7d205190>: False\n",
      "<keras.layers.normalization.batch_normalization.BatchNormalization object at 0x7f7c80ab3110>: False\n",
      "<keras.layers.merge.Add object at 0x7f7c7d2177d0>: False\n",
      "<keras.layers.convolutional.Conv2D object at 0x7f7c7d217550>: False\n",
      "<keras.layers.normalization.batch_normalization.BatchNormalization object at 0x7f7c80a82a10>: False\n",
      "<keras.layers.advanced_activations.ReLU object at 0x7f7c7d206b10>: False\n",
      "<keras.layers.convolutional.ZeroPadding2D object at 0x7f7c7d2176d0>: False\n",
      "<keras.layers.convolutional.DepthwiseConv2D object at 0x7f7c7d22b250>: True\n",
      "<keras.layers.normalization.batch_normalization.BatchNormalization object at 0x7f7c80a9e190>: True\n",
      "<keras.layers.advanced_activations.ReLU object at 0x7f7c808b1310>: True\n",
      "<keras.layers.convolutional.Conv2D object at 0x7f7c7d21f910>: True\n",
      "<keras.layers.normalization.batch_normalization.BatchNormalization object at 0x7f7c7d207f90>: True\n",
      "<keras.layers.convolutional.Conv2D object at 0x7f7c7d21aad0>: True\n",
      "<keras.layers.normalization.batch_normalization.BatchNormalization object at 0x7f7c808aa050>: True\n",
      "<keras.layers.advanced_activations.ReLU object at 0x7f7c808b1ad0>: True\n",
      "<keras.layers.convolutional.DepthwiseConv2D object at 0x7f7c7d22b350>: True\n",
      "<keras.layers.normalization.batch_normalization.BatchNormalization object at 0x7f7d700e8a50>: True\n",
      "<keras.layers.advanced_activations.ReLU object at 0x7f7c7d0c5a50>: True\n",
      "<keras.layers.convolutional.Conv2D object at 0x7f7d7010b650>: True\n",
      "<keras.layers.normalization.batch_normalization.BatchNormalization object at 0x7f7c7d225ad0>: True\n",
      "<keras.layers.merge.Add object at 0x7f7c808ab6d0>: True\n",
      "<keras.layers.convolutional.Conv2D object at 0x7f7c808ab050>: True\n",
      "<keras.layers.normalization.batch_normalization.BatchNormalization object at 0x7f7c82094790>: True\n",
      "<keras.layers.advanced_activations.ReLU object at 0x7f7c7d217310>: True\n",
      "<keras.layers.convolutional.DepthwiseConv2D object at 0x7f7c80883810>: True\n",
      "<keras.layers.normalization.batch_normalization.BatchNormalization object at 0x7f7c80a8aa90>: True\n",
      "<keras.layers.advanced_activations.ReLU object at 0x7f7c808a3950>: True\n",
      "<keras.layers.convolutional.Conv2D object at 0x7f7c808a33d0>: True\n",
      "<keras.layers.normalization.batch_normalization.BatchNormalization object at 0x7f7c808a3fd0>: True\n",
      "<keras.layers.merge.Add object at 0x7f7d77e3b590>: True\n",
      "<keras.layers.convolutional.Conv2D object at 0x7f7c8089c550>: True\n",
      "<keras.layers.normalization.batch_normalization.BatchNormalization object at 0x7f7c808a3350>: True\n",
      "<keras.layers.advanced_activations.ReLU object at 0x7f7d77e5b990>: True\n",
      "<keras.layers.convolutional.DepthwiseConv2D object at 0x7f7d77e43d50>: True\n",
      "<keras.layers.normalization.batch_normalization.BatchNormalization object at 0x7f7c808b82d0>: True\n",
      "<keras.layers.advanced_activations.ReLU object at 0x7f7d77e5b090>: True\n",
      "<keras.layers.convolutional.Conv2D object at 0x7f7d77e6aa10>: True\n",
      "<keras.layers.normalization.batch_normalization.BatchNormalization object at 0x7f7d77e6ad50>: True\n",
      "<keras.layers.convolutional.Conv2D object at 0x7f7d700ee190>: True\n",
      "<keras.layers.normalization.batch_normalization.BatchNormalization object at 0x7f7c80a4d790>: True\n",
      "<keras.layers.advanced_activations.ReLU object at 0x7f7d77e6c110>: True\n"
     ]
    }
   ],
   "source": [
    "for layer in base_model.layers:\n",
    "  print(\"{}: {}\".format(layer, layer.trainable))"
   ]
  },
  {
   "cell_type": "code",
   "execution_count": 196,
   "id": "8bd50f3b",
   "metadata": {
    "id": "8bd50f3b"
   },
   "outputs": [],
   "source": [
    "base_learning_rate = 0.01"
   ]
  },
  {
   "cell_type": "code",
   "execution_count": 199,
   "id": "714c0630",
   "metadata": {
    "id": "714c0630"
   },
   "outputs": [],
   "source": [
    "# Define a BinaryCrossentropy loss function. Use from_logits=True\n",
    "# loss_function = tf.keras.losses.categorical_crossentropy(from_logits = True)\n",
    "# Define an Adam optimizer with a learning rate of 0.1 * base_learning_rate\n",
    "# opt = Adam(lr=INIT_LR, decay=INIT_LR / EPOCHS)\n",
    "# opt = SGD(lr=1e-4, momentum=0.9)\n",
    "optimizer = tf.keras.optimizers.Adam(0.1 * base_learning_rate)\n",
    "# Use accuracy as evaluation metric\n",
    "metrics = ['accuracy']"
   ]
  },
  {
   "cell_type": "markdown",
   "id": "f859a1d1",
   "metadata": {
    "id": "f859a1d1"
   },
   "source": [
    "### 6.1 Compile the model"
   ]
  },
  {
   "cell_type": "code",
   "execution_count": 200,
   "id": "b8fa2361",
   "metadata": {
    "id": "b8fa2361"
   },
   "outputs": [],
   "source": [
    "model.compile(loss='categorical_crossentropy',\n",
    "              optimizer = optimizer,\n",
    "              metrics=metrics)"
   ]
  },
  {
   "cell_type": "code",
   "execution_count": 202,
   "id": "1db50474",
   "metadata": {
    "colab": {
     "base_uri": "https://localhost:8080/"
    },
    "id": "1db50474",
    "outputId": "19f73ff1-9718-420b-94ad-9bcd613637a5"
   },
   "outputs": [
    {
     "name": "stdout",
     "output_type": "stream",
     "text": [
      "\u001b[92mAll tests passed!\n"
     ]
    }
   ],
   "source": [
    "# assert type(loss_function) == tf.keras.losses.categorical_crossentropy, \"Not the correct layer\"\n",
    "# assert loss_function.from_logits, \"Use from_logits=True\"\n",
    "assert type(optimizer) == tf.keras.optimizers.Adam, \"This is not an Adam optimizer\"\n",
    "assert optimizer.lr == base_learning_rate / 10, \"Wrong learning rate\"\n",
    "assert metrics[0] == 'accuracy', \"Wrong metric\"\n",
    "\n",
    "print('\\033[92mAll tests passed!')"
   ]
  },
  {
   "cell_type": "code",
   "execution_count": 203,
   "id": "034667a7",
   "metadata": {
    "colab": {
     "base_uri": "https://localhost:8080/"
    },
    "id": "034667a7",
    "outputId": "fa0051b5-1882-41d2-b053-686aa7a59d89"
   },
   "outputs": [
    {
     "name": "stdout",
     "output_type": "stream",
     "text": [
      "Model: \"model_3\"\n",
      "__________________________________________________________________________________________________\n",
      " Layer (type)                   Output Shape         Param #     Connected to                     \n",
      "==================================================================================================\n",
      " input_4 (InputLayer)           [(None, 224, 224, 3  0           []                               \n",
      "                                )]                                                                \n",
      "                                                                                                  \n",
      " Conv1 (Conv2D)                 (None, 112, 112, 32  864         ['input_4[0][0]']                \n",
      "                                )                                                                 \n",
      "                                                                                                  \n",
      " bn_Conv1 (BatchNormalization)  (None, 112, 112, 32  128         ['Conv1[0][0]']                  \n",
      "                                )                                                                 \n",
      "                                                                                                  \n",
      " Conv1_relu (ReLU)              (None, 112, 112, 32  0           ['bn_Conv1[0][0]']               \n",
      "                                )                                                                 \n",
      "                                                                                                  \n",
      " expanded_conv_depthwise (Depth  (None, 112, 112, 32  288        ['Conv1_relu[0][0]']             \n",
      " wiseConv2D)                    )                                                                 \n",
      "                                                                                                  \n",
      " expanded_conv_depthwise_BN (Ba  (None, 112, 112, 32  128        ['expanded_conv_depthwise[0][0]']\n",
      " tchNormalization)              )                                                                 \n",
      "                                                                                                  \n",
      " expanded_conv_depthwise_relu (  (None, 112, 112, 32  0          ['expanded_conv_depthwise_BN[0][0\n",
      " ReLU)                          )                                ]']                              \n",
      "                                                                                                  \n",
      " expanded_conv_project (Conv2D)  (None, 112, 112, 16  512        ['expanded_conv_depthwise_relu[0]\n",
      "                                )                                [0]']                            \n",
      "                                                                                                  \n",
      " expanded_conv_project_BN (Batc  (None, 112, 112, 16  64         ['expanded_conv_project[0][0]']  \n",
      " hNormalization)                )                                                                 \n",
      "                                                                                                  \n",
      " block_1_expand (Conv2D)        (None, 112, 112, 96  1536        ['expanded_conv_project_BN[0][0]'\n",
      "                                )                                ]                                \n",
      "                                                                                                  \n",
      " block_1_expand_BN (BatchNormal  (None, 112, 112, 96  384        ['block_1_expand[0][0]']         \n",
      " ization)                       )                                                                 \n",
      "                                                                                                  \n",
      " block_1_expand_relu (ReLU)     (None, 112, 112, 96  0           ['block_1_expand_BN[0][0]']      \n",
      "                                )                                                                 \n",
      "                                                                                                  \n",
      " block_1_pad (ZeroPadding2D)    (None, 113, 113, 96  0           ['block_1_expand_relu[0][0]']    \n",
      "                                )                                                                 \n",
      "                                                                                                  \n",
      " block_1_depthwise (DepthwiseCo  (None, 56, 56, 96)  864         ['block_1_pad[0][0]']            \n",
      " nv2D)                                                                                            \n",
      "                                                                                                  \n",
      " block_1_depthwise_BN (BatchNor  (None, 56, 56, 96)  384         ['block_1_depthwise[0][0]']      \n",
      " malization)                                                                                      \n",
      "                                                                                                  \n",
      " block_1_depthwise_relu (ReLU)  (None, 56, 56, 96)   0           ['block_1_depthwise_BN[0][0]']   \n",
      "                                                                                                  \n",
      " block_1_project (Conv2D)       (None, 56, 56, 24)   2304        ['block_1_depthwise_relu[0][0]'] \n",
      "                                                                                                  \n",
      " block_1_project_BN (BatchNorma  (None, 56, 56, 24)  96          ['block_1_project[0][0]']        \n",
      " lization)                                                                                        \n",
      "                                                                                                  \n",
      " block_2_expand (Conv2D)        (None, 56, 56, 144)  3456        ['block_1_project_BN[0][0]']     \n",
      "                                                                                                  \n",
      " block_2_expand_BN (BatchNormal  (None, 56, 56, 144)  576        ['block_2_expand[0][0]']         \n",
      " ization)                                                                                         \n",
      "                                                                                                  \n",
      " block_2_expand_relu (ReLU)     (None, 56, 56, 144)  0           ['block_2_expand_BN[0][0]']      \n",
      "                                                                                                  \n",
      " block_2_depthwise (DepthwiseCo  (None, 56, 56, 144)  1296       ['block_2_expand_relu[0][0]']    \n",
      " nv2D)                                                                                            \n",
      "                                                                                                  \n",
      " block_2_depthwise_BN (BatchNor  (None, 56, 56, 144)  576        ['block_2_depthwise[0][0]']      \n",
      " malization)                                                                                      \n",
      "                                                                                                  \n",
      " block_2_depthwise_relu (ReLU)  (None, 56, 56, 144)  0           ['block_2_depthwise_BN[0][0]']   \n",
      "                                                                                                  \n",
      " block_2_project (Conv2D)       (None, 56, 56, 24)   3456        ['block_2_depthwise_relu[0][0]'] \n",
      "                                                                                                  \n",
      " block_2_project_BN (BatchNorma  (None, 56, 56, 24)  96          ['block_2_project[0][0]']        \n",
      " lization)                                                                                        \n",
      "                                                                                                  \n",
      " block_2_add (Add)              (None, 56, 56, 24)   0           ['block_1_project_BN[0][0]',     \n",
      "                                                                  'block_2_project_BN[0][0]']     \n",
      "                                                                                                  \n",
      " block_3_expand (Conv2D)        (None, 56, 56, 144)  3456        ['block_2_add[0][0]']            \n",
      "                                                                                                  \n",
      " block_3_expand_BN (BatchNormal  (None, 56, 56, 144)  576        ['block_3_expand[0][0]']         \n",
      " ization)                                                                                         \n",
      "                                                                                                  \n",
      " block_3_expand_relu (ReLU)     (None, 56, 56, 144)  0           ['block_3_expand_BN[0][0]']      \n",
      "                                                                                                  \n",
      " block_3_pad (ZeroPadding2D)    (None, 57, 57, 144)  0           ['block_3_expand_relu[0][0]']    \n",
      "                                                                                                  \n",
      " block_3_depthwise (DepthwiseCo  (None, 28, 28, 144)  1296       ['block_3_pad[0][0]']            \n",
      " nv2D)                                                                                            \n",
      "                                                                                                  \n",
      " block_3_depthwise_BN (BatchNor  (None, 28, 28, 144)  576        ['block_3_depthwise[0][0]']      \n",
      " malization)                                                                                      \n",
      "                                                                                                  \n",
      " block_3_depthwise_relu (ReLU)  (None, 28, 28, 144)  0           ['block_3_depthwise_BN[0][0]']   \n",
      "                                                                                                  \n",
      " block_3_project (Conv2D)       (None, 28, 28, 32)   4608        ['block_3_depthwise_relu[0][0]'] \n",
      "                                                                                                  \n",
      " block_3_project_BN (BatchNorma  (None, 28, 28, 32)  128         ['block_3_project[0][0]']        \n",
      " lization)                                                                                        \n",
      "                                                                                                  \n",
      " block_4_expand (Conv2D)        (None, 28, 28, 192)  6144        ['block_3_project_BN[0][0]']     \n",
      "                                                                                                  \n",
      " block_4_expand_BN (BatchNormal  (None, 28, 28, 192)  768        ['block_4_expand[0][0]']         \n",
      " ization)                                                                                         \n",
      "                                                                                                  \n",
      " block_4_expand_relu (ReLU)     (None, 28, 28, 192)  0           ['block_4_expand_BN[0][0]']      \n",
      "                                                                                                  \n",
      " block_4_depthwise (DepthwiseCo  (None, 28, 28, 192)  1728       ['block_4_expand_relu[0][0]']    \n",
      " nv2D)                                                                                            \n",
      "                                                                                                  \n",
      " block_4_depthwise_BN (BatchNor  (None, 28, 28, 192)  768        ['block_4_depthwise[0][0]']      \n",
      " malization)                                                                                      \n",
      "                                                                                                  \n",
      " block_4_depthwise_relu (ReLU)  (None, 28, 28, 192)  0           ['block_4_depthwise_BN[0][0]']   \n",
      "                                                                                                  \n",
      " block_4_project (Conv2D)       (None, 28, 28, 32)   6144        ['block_4_depthwise_relu[0][0]'] \n",
      "                                                                                                  \n",
      " block_4_project_BN (BatchNorma  (None, 28, 28, 32)  128         ['block_4_project[0][0]']        \n",
      " lization)                                                                                        \n",
      "                                                                                                  \n",
      " block_4_add (Add)              (None, 28, 28, 32)   0           ['block_3_project_BN[0][0]',     \n",
      "                                                                  'block_4_project_BN[0][0]']     \n",
      "                                                                                                  \n",
      " block_5_expand (Conv2D)        (None, 28, 28, 192)  6144        ['block_4_add[0][0]']            \n",
      "                                                                                                  \n",
      " block_5_expand_BN (BatchNormal  (None, 28, 28, 192)  768        ['block_5_expand[0][0]']         \n",
      " ization)                                                                                         \n",
      "                                                                                                  \n",
      " block_5_expand_relu (ReLU)     (None, 28, 28, 192)  0           ['block_5_expand_BN[0][0]']      \n",
      "                                                                                                  \n",
      " block_5_depthwise (DepthwiseCo  (None, 28, 28, 192)  1728       ['block_5_expand_relu[0][0]']    \n",
      " nv2D)                                                                                            \n",
      "                                                                                                  \n",
      " block_5_depthwise_BN (BatchNor  (None, 28, 28, 192)  768        ['block_5_depthwise[0][0]']      \n",
      " malization)                                                                                      \n",
      "                                                                                                  \n",
      " block_5_depthwise_relu (ReLU)  (None, 28, 28, 192)  0           ['block_5_depthwise_BN[0][0]']   \n",
      "                                                                                                  \n",
      " block_5_project (Conv2D)       (None, 28, 28, 32)   6144        ['block_5_depthwise_relu[0][0]'] \n",
      "                                                                                                  \n",
      " block_5_project_BN (BatchNorma  (None, 28, 28, 32)  128         ['block_5_project[0][0]']        \n",
      " lization)                                                                                        \n",
      "                                                                                                  \n",
      " block_5_add (Add)              (None, 28, 28, 32)   0           ['block_4_add[0][0]',            \n",
      "                                                                  'block_5_project_BN[0][0]']     \n",
      "                                                                                                  \n",
      " block_6_expand (Conv2D)        (None, 28, 28, 192)  6144        ['block_5_add[0][0]']            \n",
      "                                                                                                  \n",
      " block_6_expand_BN (BatchNormal  (None, 28, 28, 192)  768        ['block_6_expand[0][0]']         \n",
      " ization)                                                                                         \n",
      "                                                                                                  \n",
      " block_6_expand_relu (ReLU)     (None, 28, 28, 192)  0           ['block_6_expand_BN[0][0]']      \n",
      "                                                                                                  \n",
      " block_6_pad (ZeroPadding2D)    (None, 29, 29, 192)  0           ['block_6_expand_relu[0][0]']    \n",
      "                                                                                                  \n",
      " block_6_depthwise (DepthwiseCo  (None, 14, 14, 192)  1728       ['block_6_pad[0][0]']            \n",
      " nv2D)                                                                                            \n",
      "                                                                                                  \n",
      " block_6_depthwise_BN (BatchNor  (None, 14, 14, 192)  768        ['block_6_depthwise[0][0]']      \n",
      " malization)                                                                                      \n",
      "                                                                                                  \n",
      " block_6_depthwise_relu (ReLU)  (None, 14, 14, 192)  0           ['block_6_depthwise_BN[0][0]']   \n",
      "                                                                                                  \n",
      " block_6_project (Conv2D)       (None, 14, 14, 64)   12288       ['block_6_depthwise_relu[0][0]'] \n",
      "                                                                                                  \n",
      " block_6_project_BN (BatchNorma  (None, 14, 14, 64)  256         ['block_6_project[0][0]']        \n",
      " lization)                                                                                        \n",
      "                                                                                                  \n",
      " block_7_expand (Conv2D)        (None, 14, 14, 384)  24576       ['block_6_project_BN[0][0]']     \n",
      "                                                                                                  \n",
      " block_7_expand_BN (BatchNormal  (None, 14, 14, 384)  1536       ['block_7_expand[0][0]']         \n",
      " ization)                                                                                         \n",
      "                                                                                                  \n",
      " block_7_expand_relu (ReLU)     (None, 14, 14, 384)  0           ['block_7_expand_BN[0][0]']      \n",
      "                                                                                                  \n",
      " block_7_depthwise (DepthwiseCo  (None, 14, 14, 384)  3456       ['block_7_expand_relu[0][0]']    \n",
      " nv2D)                                                                                            \n",
      "                                                                                                  \n",
      " block_7_depthwise_BN (BatchNor  (None, 14, 14, 384)  1536       ['block_7_depthwise[0][0]']      \n",
      " malization)                                                                                      \n",
      "                                                                                                  \n",
      " block_7_depthwise_relu (ReLU)  (None, 14, 14, 384)  0           ['block_7_depthwise_BN[0][0]']   \n",
      "                                                                                                  \n",
      " block_7_project (Conv2D)       (None, 14, 14, 64)   24576       ['block_7_depthwise_relu[0][0]'] \n",
      "                                                                                                  \n",
      " block_7_project_BN (BatchNorma  (None, 14, 14, 64)  256         ['block_7_project[0][0]']        \n",
      " lization)                                                                                        \n",
      "                                                                                                  \n",
      " block_7_add (Add)              (None, 14, 14, 64)   0           ['block_6_project_BN[0][0]',     \n",
      "                                                                  'block_7_project_BN[0][0]']     \n",
      "                                                                                                  \n",
      " block_8_expand (Conv2D)        (None, 14, 14, 384)  24576       ['block_7_add[0][0]']            \n",
      "                                                                                                  \n",
      " block_8_expand_BN (BatchNormal  (None, 14, 14, 384)  1536       ['block_8_expand[0][0]']         \n",
      " ization)                                                                                         \n",
      "                                                                                                  \n",
      " block_8_expand_relu (ReLU)     (None, 14, 14, 384)  0           ['block_8_expand_BN[0][0]']      \n",
      "                                                                                                  \n",
      " block_8_depthwise (DepthwiseCo  (None, 14, 14, 384)  3456       ['block_8_expand_relu[0][0]']    \n",
      " nv2D)                                                                                            \n",
      "                                                                                                  \n",
      " block_8_depthwise_BN (BatchNor  (None, 14, 14, 384)  1536       ['block_8_depthwise[0][0]']      \n",
      " malization)                                                                                      \n",
      "                                                                                                  \n",
      " block_8_depthwise_relu (ReLU)  (None, 14, 14, 384)  0           ['block_8_depthwise_BN[0][0]']   \n",
      "                                                                                                  \n",
      " block_8_project (Conv2D)       (None, 14, 14, 64)   24576       ['block_8_depthwise_relu[0][0]'] \n",
      "                                                                                                  \n",
      " block_8_project_BN (BatchNorma  (None, 14, 14, 64)  256         ['block_8_project[0][0]']        \n",
      " lization)                                                                                        \n",
      "                                                                                                  \n",
      " block_8_add (Add)              (None, 14, 14, 64)   0           ['block_7_add[0][0]',            \n",
      "                                                                  'block_8_project_BN[0][0]']     \n",
      "                                                                                                  \n",
      " block_9_expand (Conv2D)        (None, 14, 14, 384)  24576       ['block_8_add[0][0]']            \n",
      "                                                                                                  \n",
      " block_9_expand_BN (BatchNormal  (None, 14, 14, 384)  1536       ['block_9_expand[0][0]']         \n",
      " ization)                                                                                         \n",
      "                                                                                                  \n",
      " block_9_expand_relu (ReLU)     (None, 14, 14, 384)  0           ['block_9_expand_BN[0][0]']      \n",
      "                                                                                                  \n",
      " block_9_depthwise (DepthwiseCo  (None, 14, 14, 384)  3456       ['block_9_expand_relu[0][0]']    \n",
      " nv2D)                                                                                            \n",
      "                                                                                                  \n",
      " block_9_depthwise_BN (BatchNor  (None, 14, 14, 384)  1536       ['block_9_depthwise[0][0]']      \n",
      " malization)                                                                                      \n",
      "                                                                                                  \n",
      " block_9_depthwise_relu (ReLU)  (None, 14, 14, 384)  0           ['block_9_depthwise_BN[0][0]']   \n",
      "                                                                                                  \n",
      " block_9_project (Conv2D)       (None, 14, 14, 64)   24576       ['block_9_depthwise_relu[0][0]'] \n",
      "                                                                                                  \n",
      " block_9_project_BN (BatchNorma  (None, 14, 14, 64)  256         ['block_9_project[0][0]']        \n",
      " lization)                                                                                        \n",
      "                                                                                                  \n",
      " block_9_add (Add)              (None, 14, 14, 64)   0           ['block_8_add[0][0]',            \n",
      "                                                                  'block_9_project_BN[0][0]']     \n",
      "                                                                                                  \n",
      " block_10_expand (Conv2D)       (None, 14, 14, 384)  24576       ['block_9_add[0][0]']            \n",
      "                                                                                                  \n",
      " block_10_expand_BN (BatchNorma  (None, 14, 14, 384)  1536       ['block_10_expand[0][0]']        \n",
      " lization)                                                                                        \n",
      "                                                                                                  \n",
      " block_10_expand_relu (ReLU)    (None, 14, 14, 384)  0           ['block_10_expand_BN[0][0]']     \n",
      "                                                                                                  \n",
      " block_10_depthwise (DepthwiseC  (None, 14, 14, 384)  3456       ['block_10_expand_relu[0][0]']   \n",
      " onv2D)                                                                                           \n",
      "                                                                                                  \n",
      " block_10_depthwise_BN (BatchNo  (None, 14, 14, 384)  1536       ['block_10_depthwise[0][0]']     \n",
      " rmalization)                                                                                     \n",
      "                                                                                                  \n",
      " block_10_depthwise_relu (ReLU)  (None, 14, 14, 384)  0          ['block_10_depthwise_BN[0][0]']  \n",
      "                                                                                                  \n",
      " block_10_project (Conv2D)      (None, 14, 14, 96)   36864       ['block_10_depthwise_relu[0][0]']\n",
      "                                                                                                  \n",
      " block_10_project_BN (BatchNorm  (None, 14, 14, 96)  384         ['block_10_project[0][0]']       \n",
      " alization)                                                                                       \n",
      "                                                                                                  \n",
      " block_11_expand (Conv2D)       (None, 14, 14, 576)  55296       ['block_10_project_BN[0][0]']    \n",
      "                                                                                                  \n",
      " block_11_expand_BN (BatchNorma  (None, 14, 14, 576)  2304       ['block_11_expand[0][0]']        \n",
      " lization)                                                                                        \n",
      "                                                                                                  \n",
      " block_11_expand_relu (ReLU)    (None, 14, 14, 576)  0           ['block_11_expand_BN[0][0]']     \n",
      "                                                                                                  \n",
      " block_11_depthwise (DepthwiseC  (None, 14, 14, 576)  5184       ['block_11_expand_relu[0][0]']   \n",
      " onv2D)                                                                                           \n",
      "                                                                                                  \n",
      " block_11_depthwise_BN (BatchNo  (None, 14, 14, 576)  2304       ['block_11_depthwise[0][0]']     \n",
      " rmalization)                                                                                     \n",
      "                                                                                                  \n",
      " block_11_depthwise_relu (ReLU)  (None, 14, 14, 576)  0          ['block_11_depthwise_BN[0][0]']  \n",
      "                                                                                                  \n",
      " block_11_project (Conv2D)      (None, 14, 14, 96)   55296       ['block_11_depthwise_relu[0][0]']\n",
      "                                                                                                  \n",
      " block_11_project_BN (BatchNorm  (None, 14, 14, 96)  384         ['block_11_project[0][0]']       \n",
      " alization)                                                                                       \n",
      "                                                                                                  \n",
      " block_11_add (Add)             (None, 14, 14, 96)   0           ['block_10_project_BN[0][0]',    \n",
      "                                                                  'block_11_project_BN[0][0]']    \n",
      "                                                                                                  \n",
      " block_12_expand (Conv2D)       (None, 14, 14, 576)  55296       ['block_11_add[0][0]']           \n",
      "                                                                                                  \n",
      " block_12_expand_BN (BatchNorma  (None, 14, 14, 576)  2304       ['block_12_expand[0][0]']        \n",
      " lization)                                                                                        \n",
      "                                                                                                  \n",
      " block_12_expand_relu (ReLU)    (None, 14, 14, 576)  0           ['block_12_expand_BN[0][0]']     \n",
      "                                                                                                  \n",
      " block_12_depthwise (DepthwiseC  (None, 14, 14, 576)  5184       ['block_12_expand_relu[0][0]']   \n",
      " onv2D)                                                                                           \n",
      "                                                                                                  \n",
      " block_12_depthwise_BN (BatchNo  (None, 14, 14, 576)  2304       ['block_12_depthwise[0][0]']     \n",
      " rmalization)                                                                                     \n",
      "                                                                                                  \n",
      " block_12_depthwise_relu (ReLU)  (None, 14, 14, 576)  0          ['block_12_depthwise_BN[0][0]']  \n",
      "                                                                                                  \n",
      " block_12_project (Conv2D)      (None, 14, 14, 96)   55296       ['block_12_depthwise_relu[0][0]']\n",
      "                                                                                                  \n",
      " block_12_project_BN (BatchNorm  (None, 14, 14, 96)  384         ['block_12_project[0][0]']       \n",
      " alization)                                                                                       \n",
      "                                                                                                  \n",
      " block_12_add (Add)             (None, 14, 14, 96)   0           ['block_11_add[0][0]',           \n",
      "                                                                  'block_12_project_BN[0][0]']    \n",
      "                                                                                                  \n",
      " block_13_expand (Conv2D)       (None, 14, 14, 576)  55296       ['block_12_add[0][0]']           \n",
      "                                                                                                  \n",
      " block_13_expand_BN (BatchNorma  (None, 14, 14, 576)  2304       ['block_13_expand[0][0]']        \n",
      " lization)                                                                                        \n",
      "                                                                                                  \n",
      " block_13_expand_relu (ReLU)    (None, 14, 14, 576)  0           ['block_13_expand_BN[0][0]']     \n",
      "                                                                                                  \n",
      " block_13_pad (ZeroPadding2D)   (None, 15, 15, 576)  0           ['block_13_expand_relu[0][0]']   \n",
      "                                                                                                  \n",
      " block_13_depthwise (DepthwiseC  (None, 7, 7, 576)   5184        ['block_13_pad[0][0]']           \n",
      " onv2D)                                                                                           \n",
      "                                                                                                  \n",
      " block_13_depthwise_BN (BatchNo  (None, 7, 7, 576)   2304        ['block_13_depthwise[0][0]']     \n",
      " rmalization)                                                                                     \n",
      "                                                                                                  \n",
      " block_13_depthwise_relu (ReLU)  (None, 7, 7, 576)   0           ['block_13_depthwise_BN[0][0]']  \n",
      "                                                                                                  \n",
      " block_13_project (Conv2D)      (None, 7, 7, 160)    92160       ['block_13_depthwise_relu[0][0]']\n",
      "                                                                                                  \n",
      " block_13_project_BN (BatchNorm  (None, 7, 7, 160)   640         ['block_13_project[0][0]']       \n",
      " alization)                                                                                       \n",
      "                                                                                                  \n",
      " block_14_expand (Conv2D)       (None, 7, 7, 960)    153600      ['block_13_project_BN[0][0]']    \n",
      "                                                                                                  \n",
      " block_14_expand_BN (BatchNorma  (None, 7, 7, 960)   3840        ['block_14_expand[0][0]']        \n",
      " lization)                                                                                        \n",
      "                                                                                                  \n",
      " block_14_expand_relu (ReLU)    (None, 7, 7, 960)    0           ['block_14_expand_BN[0][0]']     \n",
      "                                                                                                  \n",
      " block_14_depthwise (DepthwiseC  (None, 7, 7, 960)   8640        ['block_14_expand_relu[0][0]']   \n",
      " onv2D)                                                                                           \n",
      "                                                                                                  \n",
      " block_14_depthwise_BN (BatchNo  (None, 7, 7, 960)   3840        ['block_14_depthwise[0][0]']     \n",
      " rmalization)                                                                                     \n",
      "                                                                                                  \n",
      " block_14_depthwise_relu (ReLU)  (None, 7, 7, 960)   0           ['block_14_depthwise_BN[0][0]']  \n",
      "                                                                                                  \n",
      " block_14_project (Conv2D)      (None, 7, 7, 160)    153600      ['block_14_depthwise_relu[0][0]']\n",
      "                                                                                                  \n",
      " block_14_project_BN (BatchNorm  (None, 7, 7, 160)   640         ['block_14_project[0][0]']       \n",
      " alization)                                                                                       \n",
      "                                                                                                  \n",
      " block_14_add (Add)             (None, 7, 7, 160)    0           ['block_13_project_BN[0][0]',    \n",
      "                                                                  'block_14_project_BN[0][0]']    \n",
      "                                                                                                  \n",
      " block_15_expand (Conv2D)       (None, 7, 7, 960)    153600      ['block_14_add[0][0]']           \n",
      "                                                                                                  \n",
      " block_15_expand_BN (BatchNorma  (None, 7, 7, 960)   3840        ['block_15_expand[0][0]']        \n",
      " lization)                                                                                        \n",
      "                                                                                                  \n",
      " block_15_expand_relu (ReLU)    (None, 7, 7, 960)    0           ['block_15_expand_BN[0][0]']     \n",
      "                                                                                                  \n",
      " block_15_depthwise (DepthwiseC  (None, 7, 7, 960)   8640        ['block_15_expand_relu[0][0]']   \n",
      " onv2D)                                                                                           \n",
      "                                                                                                  \n",
      " block_15_depthwise_BN (BatchNo  (None, 7, 7, 960)   3840        ['block_15_depthwise[0][0]']     \n",
      " rmalization)                                                                                     \n",
      "                                                                                                  \n",
      " block_15_depthwise_relu (ReLU)  (None, 7, 7, 960)   0           ['block_15_depthwise_BN[0][0]']  \n",
      "                                                                                                  \n",
      " block_15_project (Conv2D)      (None, 7, 7, 160)    153600      ['block_15_depthwise_relu[0][0]']\n",
      "                                                                                                  \n",
      " block_15_project_BN (BatchNorm  (None, 7, 7, 160)   640         ['block_15_project[0][0]']       \n",
      " alization)                                                                                       \n",
      "                                                                                                  \n",
      " block_15_add (Add)             (None, 7, 7, 160)    0           ['block_14_add[0][0]',           \n",
      "                                                                  'block_15_project_BN[0][0]']    \n",
      "                                                                                                  \n",
      " block_16_expand (Conv2D)       (None, 7, 7, 960)    153600      ['block_15_add[0][0]']           \n",
      "                                                                                                  \n",
      " block_16_expand_BN (BatchNorma  (None, 7, 7, 960)   3840        ['block_16_expand[0][0]']        \n",
      " lization)                                                                                        \n",
      "                                                                                                  \n",
      " block_16_expand_relu (ReLU)    (None, 7, 7, 960)    0           ['block_16_expand_BN[0][0]']     \n",
      "                                                                                                  \n",
      " block_16_depthwise (DepthwiseC  (None, 7, 7, 960)   8640        ['block_16_expand_relu[0][0]']   \n",
      " onv2D)                                                                                           \n",
      "                                                                                                  \n",
      " block_16_depthwise_BN (BatchNo  (None, 7, 7, 960)   3840        ['block_16_depthwise[0][0]']     \n",
      " rmalization)                                                                                     \n",
      "                                                                                                  \n",
      " block_16_depthwise_relu (ReLU)  (None, 7, 7, 960)   0           ['block_16_depthwise_BN[0][0]']  \n",
      "                                                                                                  \n",
      " block_16_project (Conv2D)      (None, 7, 7, 320)    307200      ['block_16_depthwise_relu[0][0]']\n",
      "                                                                                                  \n",
      " block_16_project_BN (BatchNorm  (None, 7, 7, 320)   1280        ['block_16_project[0][0]']       \n",
      " alization)                                                                                       \n",
      "                                                                                                  \n",
      " Conv_1 (Conv2D)                (None, 7, 7, 1280)   409600      ['block_16_project_BN[0][0]']    \n",
      "                                                                                                  \n",
      " Conv_1_bn (BatchNormalization)  (None, 7, 7, 1280)  5120        ['Conv_1[0][0]']                 \n",
      "                                                                                                  \n",
      " out_relu (ReLU)                (None, 7, 7, 1280)   0           ['Conv_1_bn[0][0]']              \n",
      "                                                                                                  \n",
      " average_pooling2d (AveragePool  (None, 1, 1, 1280)  0           ['out_relu[0][0]']               \n",
      " ing2D)                                                                                           \n",
      "                                                                                                  \n",
      " flatten (Flatten)              (None, 1280)         0           ['average_pooling2d[0][0]']      \n",
      "                                                                                                  \n",
      " dense_3 (Dense)                (None, 64)           81984       ['flatten[0][0]']                \n",
      "                                                                                                  \n",
      " dropout (Dropout)              (None, 64)           0           ['dense_3[0][0]']                \n",
      "                                                                                                  \n",
      " dense_4 (Dense)                (None, 2)            130         ['dropout[0][0]']                \n",
      "                                                                                                  \n",
      "==================================================================================================\n",
      "Total params: 2,340,098\n",
      "Trainable params: 1,707,010\n",
      "Non-trainable params: 633,088\n",
      "__________________________________________________________________________________________________\n"
     ]
    }
   ],
   "source": [
    "model.summary()"
   ]
  },
  {
   "cell_type": "code",
   "execution_count": 204,
   "id": "aef84620",
   "metadata": {
    "colab": {
     "base_uri": "https://localhost:8080/"
    },
    "id": "aef84620",
    "outputId": "ac32dc4a-fcf1-48c9-b3c3-b7e13539b906"
   },
   "outputs": [
    {
     "data": {
      "text/plain": [
       "40"
      ]
     },
     "execution_count": 204,
     "metadata": {},
     "output_type": "execute_result"
    }
   ],
   "source": [
    "len(model.trainable_variables)"
   ]
  },
  {
   "cell_type": "markdown",
   "id": "26f04e6b",
   "metadata": {
    "id": "26f04e6b"
   },
   "source": [
    "### 6.2 Continue Training the Model"
   ]
  },
  {
   "cell_type": "markdown",
   "id": "6f54bf17",
   "metadata": {
    "id": "6f54bf17"
   },
   "source": [
    "This will improve our accuracy by a few percentage points."
   ]
  },
  {
   "cell_type": "code",
   "execution_count": 206,
   "id": "d9ccd5db",
   "metadata": {
    "colab": {
     "base_uri": "https://localhost:8080/"
    },
    "id": "d9ccd5db",
    "outputId": "5f1d5bec-3890-4e7e-b81e-012d4390fb11"
   },
   "outputs": [
    {
     "name": "stderr",
     "output_type": "stream",
     "text": [
      "/usr/local/lib/python3.7/dist-packages/keras_preprocessing/image/image_data_generator.py:720: UserWarning: This ImageDataGenerator specifies `featurewise_center`, but it hasn't been fit on any training data. Fit it first by calling `.fit(numpy_data)`.\n",
      "  warnings.warn('This ImageDataGenerator specifies '\n",
      "/usr/local/lib/python3.7/dist-packages/keras_preprocessing/image/image_data_generator.py:728: UserWarning: This ImageDataGenerator specifies `featurewise_std_normalization`, but it hasn't been fit on any training data. Fit it first by calling `.fit(numpy_data)`.\n",
      "  warnings.warn('This ImageDataGenerator specifies '\n"
     ]
    },
    {
     "name": "stdout",
     "output_type": "stream",
     "text": [
      "Epoch 20/25\n",
      "346/346 [==============================] - 212s 613ms/step - loss: 0.1656 - accuracy: 0.9398 - val_loss: 4.2598 - val_accuracy: 0.4377\n",
      "Epoch 21/25\n",
      "346/346 [==============================] - 193s 559ms/step - loss: 0.1296 - accuracy: 0.9557 - val_loss: 1.0649 - val_accuracy: 0.7581\n",
      "Epoch 22/25\n",
      "346/346 [==============================] - 194s 560ms/step - loss: 0.1032 - accuracy: 0.9652 - val_loss: 0.7245 - val_accuracy: 0.7719\n",
      "Epoch 23/25\n",
      "346/346 [==============================] - 191s 552ms/step - loss: 0.0989 - accuracy: 0.9642 - val_loss: 2.4244 - val_accuracy: 0.7574\n",
      "Epoch 24/25\n",
      "346/346 [==============================] - 190s 549ms/step - loss: 0.0946 - accuracy: 0.9660 - val_loss: 3.4832 - val_accuracy: 0.7574\n",
      "Epoch 25/25\n",
      "346/346 [==============================] - 191s 553ms/step - loss: 0.0934 - accuracy: 0.9658 - val_loss: 0.8331 - val_accuracy: 0.8045\n"
     ]
    }
   ],
   "source": [
    "initial_epochs = 20\n",
    "fine_tune_epochs = 5\n",
    "total_epochs =  initial_epochs + fine_tune_epochs\n",
    "early_stopper = tf.keras.callbacks.EarlyStopping(monitor = 'val_loss', mode = 'min', verbose = 1, patience = 4)\n",
    "\n",
    "\n",
    "history_fine = model.fit(training_set,\n",
    "                         epochs=total_epochs,\n",
    "                         initial_epoch=history.epoch[-1],\n",
    "                         validation_data=validation_set,\n",
    "                         callbacks = [early_stopper])"
   ]
  },
  {
   "cell_type": "markdown",
   "id": "ef605b1d",
   "metadata": {
    "id": "ef605b1d"
   },
   "source": [
    "Learning Curve"
   ]
  },
  {
   "cell_type": "code",
   "execution_count": 207,
   "id": "f18b2eec",
   "metadata": {
    "id": "f18b2eec"
   },
   "outputs": [],
   "source": [
    "acc += history_fine.history['accuracy']\n",
    "val_acc += history_fine.history['val_accuracy']\n",
    "\n",
    "loss += history_fine.history['loss']\n",
    "val_loss += history_fine.history['val_loss']"
   ]
  },
  {
   "cell_type": "code",
   "execution_count": 208,
   "id": "03aabb82",
   "metadata": {
    "colab": {
     "base_uri": "https://localhost:8080/",
     "height": 513
    },
    "id": "03aabb82",
    "outputId": "b6de6faf-9576-49ea-804f-5b2a5dbde571"
   },
   "outputs": [
    {
     "data": {
      "image/png": "[encoded data removed]",
      "text/plain": [
       "<Figure size 576x576 with 2 Axes>"
      ]
     },
     "metadata": {
      "needs_background": "light"
     },
     "output_type": "display_data"
    }
   ],
   "source": [
    "plt.figure(figsize=(8, 8))\n",
    "plt.subplot(2, 1, 1)\n",
    "plt.plot(acc, label='Training Accuracy')\n",
    "plt.plot(val_acc, label='Validation Accuracy')\n",
    "plt.ylim([0, 1])\n",
    "plt.plot([initial_epochs-1,initial_epochs-1],\n",
    "          plt.ylim(), label='Start Fine Tuning')\n",
    "plt.legend(loc='lower right')\n",
    "plt.title('Training and Validation Accuracy')\n",
    "\n",
    "plt.subplot(2, 1, 2)\n",
    "plt.plot(loss, label='Training Loss')\n",
    "plt.plot(val_loss, label='Validation Loss')\n",
    "plt.ylim([0, 1.0])\n",
    "plt.plot([initial_epochs-1,initial_epochs-1],\n",
    "         plt.ylim(), label='Start Fine Tuning')\n",
    "plt.legend(loc='upper right')\n",
    "plt.title('Training and Validation Loss')\n",
    "plt.xlabel('epoch')\n",
    "plt.show()"
   ]
  },
  {
   "cell_type": "markdown",
   "id": "ae16f7c0",
   "metadata": {
    "id": "ae16f7c0"
   },
   "source": [
    "<font color='blue'>\n",
    "\n",
    "## 7. Evaluation and prediction"
   ]
  },
  {
   "cell_type": "markdown",
   "id": "77b544b0",
   "metadata": {
    "id": "77b544b0"
   },
   "source": [
    "Finaly we can verify the performance of the model using Validation set."
   ]
  },
  {
   "cell_type": "code",
   "execution_count": 209,
   "id": "520bf40a",
   "metadata": {
    "colab": {
     "base_uri": "https://localhost:8080/"
    },
    "id": "520bf40a",
    "outputId": "f7dbdd9a-580d-4c35-bc70-8a238643dc58"
   },
   "outputs": [
    {
     "name": "stdout",
     "output_type": "stream",
     "text": [
      "87/87 [==============================] - 14s 165ms/step - loss: 0.8331 - accuracy: 0.8045\n",
      "Test accuracy : 0.8044894933700562\n"
     ]
    }
   ],
   "source": [
    "loss, accuracy = model.evaluate(validation_set)\n",
    "print('Validation accuracy :', accuracy)"
   ]
  },
  {
   "cell_type": "markdown",
   "id": "604718cd",
   "metadata": {
    "id": "604718cd"
   },
   "source": [
    "### Classification Report & Confusion Matrix"
   ]
  },
  {
   "cell_type": "code",
   "execution_count": 210,
   "id": "YCZGDNQg6or6",
   "metadata": {
    "id": "YCZGDNQg6or6"
   },
   "outputs": [],
   "source": [
    "# predict classes of validation dataset\n",
    "val_predict = model.predict(validation_set)\n",
    "\n",
    "predict_class = np.argmax(val_predict, axis=1)\n",
    "predict_class = predict_class.tolist()"
   ]
  },
  {
   "cell_type": "code",
   "execution_count": 211,
   "id": "36NnR0HK6jJY",
   "metadata": {
    "colab": {
     "base_uri": "https://localhost:8080/",
     "height": 664
    },
    "id": "36NnR0HK6jJY",
    "outputId": "44ca8ca5-fc29-495e-ae10-6073234310d6"
   },
   "outputs": [
    {
     "name": "stdout",
     "output_type": "stream",
     "text": [
      "Accuracy: 0.8044895003620565\n",
      "F1 score: 0.7384332088178039\n",
      "Recall: 0.7310006735870442\n",
      "Precision: 0.7477989988801255\n",
      "\n",
      " clasification report:\n",
      "               precision    recall  f1-score   support\n",
      "\n",
      "       Covid       0.64      0.58      0.61       723\n",
      "      Normal       0.86      0.89      0.87      2039\n",
      "\n",
      "    accuracy                           0.80      2762\n",
      "   macro avg       0.75      0.73      0.74      2762\n",
      "weighted avg       0.80      0.80      0.80      2762\n",
      "\n"
     ]
    },
    {
     "data": {
      "image/png": "[encoded data removed]",
      "text/plain": [
       "<Figure size 576x432 with 2 Axes>"
      ]
     },
     "metadata": {
      "needs_background": "light"
     },
     "output_type": "display_data"
    }
   ],
   "source": [
    "print ('Accuracy:', accuracy_score(validation_set.classes, predict_class))\n",
    "print ('F1 score:', f1_score(validation_set.classes, predict_class, average='macro'))\n",
    "print ('Recall:', recall_score(validation_set.classes, predict_class, average='macro'))\n",
    "print ('Precision:', precision_score(validation_set.classes, predict_class, average='macro'))\n",
    "\n",
    "labels = ['Covid', 'Normal',]\n",
    "report = classification_report(validation_set.classes, predict_class, target_names=labels)\n",
    "print('\\n clasification report:\\n', report)\n",
    "\n",
    "cm = confusion_matrix(validation_set.classes, predict_class)\n",
    "cm_df = pd.DataFrame(cm,\n",
    "                     index = ['COVID','NORMAL'], \n",
    "                     columns = ['COVID','NORMAL'])\n",
    "\n",
    "plt.figure(figsize=(8,6))\n",
    "sns.heatmap(cm_df, annot=True, fmt='d')\n",
    "plt.title(\"Confusion Matrixx\")\n",
    "plt.xlabel(\"Predicted\")\n",
    "plt.ylabel(\"Actual\")\n",
    "plt.show()"
   ]
  },
  {
   "cell_type": "code",
   "execution_count": null,
   "id": "7S_52JbW-_K7",
   "metadata": {
    "id": "7S_52JbW-_K7"
   },
   "outputs": [],
   "source": []
  },
  {
   "cell_type": "markdown",
   "id": "isW7N52Y_CeT",
   "metadata": {
    "id": "isW7N52Y_CeT"
   },
   "source": [
    "## More Epoch"
   ]
  },
  {
   "cell_type": "code",
   "execution_count": 213,
   "id": "WvT9l_l3_GW6",
   "metadata": {
    "colab": {
     "base_uri": "https://localhost:8080/"
    },
    "id": "WvT9l_l3_GW6",
    "outputId": "9c47b7ba-90c2-4b04-da35-e7f54688576f"
   },
   "outputs": [
    {
     "name": "stderr",
     "output_type": "stream",
     "text": [
      "/usr/local/lib/python3.7/dist-packages/keras_preprocessing/image/image_data_generator.py:720: UserWarning: This ImageDataGenerator specifies `featurewise_center`, but it hasn't been fit on any training data. Fit it first by calling `.fit(numpy_data)`.\n",
      "  warnings.warn('This ImageDataGenerator specifies '\n",
      "/usr/local/lib/python3.7/dist-packages/keras_preprocessing/image/image_data_generator.py:728: UserWarning: This ImageDataGenerator specifies `featurewise_std_normalization`, but it hasn't been fit on any training data. Fit it first by calling `.fit(numpy_data)`.\n",
      "  warnings.warn('This ImageDataGenerator specifies '\n"
     ]
    },
    {
     "name": "stdout",
     "output_type": "stream",
     "text": [
      "Epoch 25/30\n",
      "346/346 [==============================] - 190s 550ms/step - loss: 0.0630 - accuracy: 0.9794 - val_loss: 0.6942 - val_accuracy: 0.8588\n",
      "Epoch 26/30\n",
      "346/346 [==============================] - 191s 551ms/step - loss: 0.0689 - accuracy: 0.9766 - val_loss: 0.9529 - val_accuracy: 0.8052\n",
      "Epoch 27/30\n",
      "346/346 [==============================] - 192s 554ms/step - loss: 0.0654 - accuracy: 0.9773 - val_loss: 0.6148 - val_accuracy: 0.8472\n",
      "Epoch 28/30\n",
      "346/346 [==============================] - 198s 571ms/step - loss: 0.0563 - accuracy: 0.9812 - val_loss: 2.9611 - val_accuracy: 0.7944\n",
      "Epoch 29/30\n",
      "346/346 [==============================] - 197s 570ms/step - loss: 0.0607 - accuracy: 0.9813 - val_loss: 1.6799 - val_accuracy: 0.6970\n",
      "Epoch 30/30\n",
      "346/346 [==============================] - 198s 572ms/step - loss: 0.0485 - accuracy: 0.9821 - val_loss: 5.0469 - val_accuracy: 0.3537\n"
     ]
    }
   ],
   "source": [
    "initial_epochs = 25\n",
    "fine_tune_epochs = 5\n",
    "total_epochs =  initial_epochs + fine_tune_epochs\n",
    "early_stopper = tf.keras.callbacks.EarlyStopping(monitor = 'val_loss', mode = 'min', verbose = 1, patience = 4)\n",
    "\n",
    "\n",
    "history_fine = model.fit(training_set,\n",
    "                         epochs=total_epochs,\n",
    "                         initial_epoch=history_fine.epoch[-1],\n",
    "                         validation_data=validation_set,\n",
    "                         callbacks = [early_stopper])"
   ]
  },
  {
   "cell_type": "code",
   "execution_count": null,
   "id": "5S73TVoe_Gb-",
   "metadata": {
    "colab": {
     "base_uri": "https://localhost:8080/"
    },
    "id": "5S73TVoe_Gb-",
    "outputId": "4f41ce6d-510a-486f-f363-cb77e738a34a"
   },
   "outputs": [
    {
     "name": "stderr",
     "output_type": "stream",
     "text": [
      "/usr/local/lib/python3.7/dist-packages/keras_preprocessing/image/image_data_generator.py:720: UserWarning: This ImageDataGenerator specifies `featurewise_center`, but it hasn't been fit on any training data. Fit it first by calling `.fit(numpy_data)`.\n",
      "  warnings.warn('This ImageDataGenerator specifies '\n",
      "/usr/local/lib/python3.7/dist-packages/keras_preprocessing/image/image_data_generator.py:728: UserWarning: This ImageDataGenerator specifies `featurewise_std_normalization`, but it hasn't been fit on any training data. Fit it first by calling `.fit(numpy_data)`.\n",
      "  warnings.warn('This ImageDataGenerator specifies '\n"
     ]
    },
    {
     "name": "stdout",
     "output_type": "stream",
     "text": [
      "Epoch 30/40\n",
      "346/346 [==============================] - 202s 584ms/step - loss: 0.0497 - accuracy: 0.9833 - val_loss: 0.5228 - val_accuracy: 0.9037\n",
      "Epoch 31/40\n",
      "346/346 [==============================] - 210s 606ms/step - loss: 0.0626 - accuracy: 0.9794 - val_loss: 0.9036 - val_accuracy: 0.8563\n",
      "Epoch 32/40\n",
      "346/346 [==============================] - 197s 569ms/step - loss: 0.0446 - accuracy: 0.9842 - val_loss: 7.8568 - val_accuracy: 0.3059\n",
      "Epoch 33/40\n",
      "346/346 [==============================] - 197s 568ms/step - loss: 0.0503 - accuracy: 0.9831 - val_loss: 11.5121 - val_accuracy: 0.5098\n",
      "Epoch 34/40\n",
      " 50/346 [===>..........................] - ETA: 2:35 - loss: 0.0410 - accuracy: 0.9856"
     ]
    }
   ],
   "source": [
    "initial_epochs = 30\n",
    "fine_tune_epochs = 10\n",
    "total_epochs =  initial_epochs + fine_tune_epochs\n",
    "early_stopper = tf.keras.callbacks.EarlyStopping(monitor = 'val_loss', mode = 'min', verbose = 1, patience = 4)\n",
    "\n",
    "\n",
    "history_fine = model.fit(training_set,\n",
    "                         epochs=total_epochs,\n",
    "                         initial_epoch=history_fine.epoch[-1],\n",
    "                         validation_data=validation_set,\n",
    "                         callbacks = [early_stopper])"
   ]
  },
  {
   "cell_type": "code",
   "execution_count": null,
   "id": "GWQ7u3Z5_Gel",
   "metadata": {
    "id": "GWQ7u3Z5_Gel"
   },
   "outputs": [],
   "source": []
  },
  {
   "cell_type": "code",
   "execution_count": null,
   "id": "uz4BQhknEJbc",
   "metadata": {
    "id": "uz4BQhknEJbc"
   },
   "outputs": [],
   "source": [
    "import tensorflow as tf\n",
    "\n",
    "from keras.models import load_model\n",
    "\n",
    "model.save('COVID19_MobileNetV2_Epoch-40.h5')"
   ]
  },
  {
   "cell_type": "code",
   "execution_count": null,
   "id": "rofawx-uF2eH",
   "metadata": {
    "id": "rofawx-uF2eH"
   },
   "outputs": [],
   "source": []
  },
  {
   "cell_type": "code",
   "execution_count": null,
   "id": "Gad99iOyF2mi",
   "metadata": {
    "id": "Gad99iOyF2mi"
   },
   "outputs": [],
   "source": [
    "acc += history_fine.history['accuracy']\n",
    "val_acc += history_fine.history['val_accuracy']\n",
    "\n",
    "loss += history_fine.history['loss']\n",
    "val_loss += history_fine.history['val_loss']"
   ]
  },
  {
   "cell_type": "code",
   "execution_count": null,
   "id": "ye0ido9QF2qz",
   "metadata": {
    "id": "ye0ido9QF2qz"
   },
   "outputs": [],
   "source": [
    "plt.figure(figsize=(8, 8))\n",
    "plt.subplot(2, 1, 1)\n",
    "plt.plot(acc, label='Training Accuracy')\n",
    "plt.plot(val_acc, label='Validation Accuracy')\n",
    "plt.ylim([0, 1])\n",
    "plt.plot([initial_epochs-1,initial_epochs-1],\n",
    "          plt.ylim(), label='Start Fine Tuning')\n",
    "plt.legend(loc='lower right')\n",
    "plt.title('Training and Validation Accuracy')\n",
    "\n",
    "plt.subplot(2, 1, 2)\n",
    "plt.plot(loss, label='Training Loss')\n",
    "plt.plot(val_loss, label='Validation Loss')\n",
    "plt.ylim([0, 1.0])\n",
    "plt.plot([initial_epochs-1,initial_epochs-1],\n",
    "         plt.ylim(), label='Start Fine Tuning')\n",
    "plt.legend(loc='upper right')\n",
    "plt.title('Training and Validation Loss')\n",
    "plt.xlabel('epoch')\n",
    "plt.show()"
   ]
  },
  {
   "cell_type": "code",
   "execution_count": null,
   "id": "XOPBEUdxF3AF",
   "metadata": {
    "id": "XOPBEUdxF3AF"
   },
   "outputs": [],
   "source": []
  },
  {
   "cell_type": "code",
   "execution_count": null,
   "id": "V4oJanf1F3E1",
   "metadata": {
    "id": "V4oJanf1F3E1"
   },
   "outputs": [],
   "source": [
    "loss, accuracy = model.evaluate(validation_set)\n",
    "print('Validation accuracy :', accuracy)"
   ]
  },
  {
   "cell_type": "code",
   "execution_count": null,
   "id": "zoNj3_3IF_l3",
   "metadata": {
    "id": "zoNj3_3IF_l3"
   },
   "outputs": [],
   "source": [
    "# predict classes of validation dataset\n",
    "val_predict = model.predict(validation_set)\n",
    "\n",
    "predict_class = np.argmax(val_predict, axis=1)\n",
    "predict_class = predict_class.tolist()"
   ]
  },
  {
   "cell_type": "code",
   "execution_count": null,
   "id": "JOh6Mcu1F_qe",
   "metadata": {
    "id": "JOh6Mcu1F_qe"
   },
   "outputs": [],
   "source": [
    "print ('Accuracy:', accuracy_score(validation_set.classes, predict_class))\n",
    "print ('F1 score:', f1_score(validation_set.classes, predict_class, average='macro'))\n",
    "print ('Recall:', recall_score(validation_set.classes, predict_class, average='macro'))\n",
    "print ('Precision:', precision_score(validation_set.classes, predict_class, average='macro'))\n",
    "\n",
    "labels = ['Covid', 'Normal',]\n",
    "report = classification_report(validation_set.classes, predict_class, target_names=labels)\n",
    "print('\\n clasification report:\\n', report)\n",
    "\n",
    "cm = confusion_matrix(validation_set.classes, predict_class)\n",
    "cm_df = pd.DataFrame(cm,\n",
    "                     index = ['COVID','NORMAL'], \n",
    "                     columns = ['COVID','NORMAL'])\n",
    "\n",
    "plt.figure(figsize=(8,6))\n",
    "sns.heatmap(cm_df, annot=True, fmt='d')\n",
    "plt.title(\"Confusion Matrixx\")\n",
    "plt.xlabel(\"Predicted\")\n",
    "plt.ylabel(\"Actual\")\n",
    "plt.show()"
   ]
  },
  {
   "cell_type": "code",
   "execution_count": null,
   "id": "bhCqeqhlF_5X",
   "metadata": {
    "id": "bhCqeqhlF_5X"
   },
   "outputs": [],
   "source": []
  },
  {
   "cell_type": "markdown",
   "id": "84b83cc0",
   "metadata": {
    "id": "84b83cc0"
   },
   "source": [
    "## Extra "
   ]
  },
  {
   "cell_type": "code",
   "execution_count": 145,
   "id": "97d8bf99",
   "metadata": {
    "id": "97d8bf99"
   },
   "outputs": [],
   "source": [
    "# model.evaluate(train_set)"
   ]
  },
  {
   "cell_type": "code",
   "execution_count": 2,
   "id": "1800ef7c",
   "metadata": {
    "id": "1800ef7c"
   },
   "outputs": [],
   "source": [
    "# model.evaluate(validation_set)"
   ]
  },
  {
   "cell_type": "markdown",
   "id": "f0194d3c",
   "metadata": {
    "id": "f0194d3c"
   },
   "source": [
    "## Done! "
   ]
  },
  {
   "cell_type": "markdown",
   "id": "beb10ee0",
   "metadata": {
    "id": "beb10ee0"
   },
   "source": [
    "<font color='DarkViolet'>\n",
    "\n",
    "**Important Points**:\n",
    "\n",
    "* To adapt the classifier to new data: Delete the top layer, add a new classification layer, and train only on that layer\n",
    "* When freezing layers, avoid keeping track of statistics (like in the batch normalization layer)\n",
    "* Fine-tune the final layers of your model to capture high-level details near the end of the network and potentially improve accuracy "
   ]
  }
 ],
 "metadata": {
  "accelerator": "GPU",
  "colab": {
   "collapsed_sections": [
    "db097859",
    "3b315e72"
   ],
   "name": "MobileNetV2 - Final .ipynb",
   "provenance": [],
   "toc_visible": true
  },
  "kernelspec": {
   "display_name": "Python 3",
   "language": "python",
   "name": "python3"
  },
  "language_info": {
   "codemirror_mode": {
    "name": "ipython",
    "version": 3
   },
   "file_extension": ".py",
   "mimetype": "text/x-python",
   "name": "python",
   "nbconvert_exporter": "python",
   "pygments_lexer": "ipython3",
   "version": "3.8.8"
  }
 },
 "nbformat": 4,
 "nbformat_minor": 5
}
